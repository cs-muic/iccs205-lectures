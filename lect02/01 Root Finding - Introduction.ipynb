{
 "cells": [
  {
   "cell_type": "markdown",
   "metadata": {},
   "source": [
    "### What is a \"Root\"?\n",
    "\n",
    "First, what problem are we trying to solve? We're interested in **root-finding**, which means we have a continuous function, $f(x)$, and we want to find a value $x$ such that $f(x) = 0$. This value of $x$ is called a **root** of the function.\n",
    "\n",
    "Finding roots is essential in many fields of science and engineering, from finding equilibrium points in a physical system to optimizing financial models.\n",
    "\n",
    "In this lecture, we will explore the following root-finding methods:\n",
    "1. **Fixed-Point Iteration**\n",
    "2. **Bisection Method**\n",
    "3. **Newton-Raphson Method**\n",
    "\n"
   ]
  },
  {
   "cell_type": "markdown",
   "metadata": {},
   "source": [
    "### Quiz\n",
    "Before we dive into the algorithms, let's consider the following code snippet. Why is $(1+x) - 1 \\not= x$?"
   ]
  },
  {
   "cell_type": "code",
   "execution_count": 2,
   "metadata": {},
   "outputs": [
    {
     "data": {
      "text/plain": [
       "False"
      ]
     },
     "execution_count": 2,
     "metadata": {},
     "output_type": "execute_result"
    }
   ],
   "source": [
    "x = 1e-10\n",
    "(1+x)-1 == x"
   ]
  }
 ],
 "metadata": {
  "hide_input": false,
  "kernelspec": {
   "display_name": "iccs-205-numerical-computation-QOrFbCh5-py3.12",
   "language": "python",
   "name": "python3"
  },
  "language_info": {
   "codemirror_mode": {
    "name": "ipython",
    "version": 3
   },
   "file_extension": ".py",
   "mimetype": "text/x-python",
   "name": "python",
   "nbconvert_exporter": "python",
   "pygments_lexer": "ipython3",
   "version": "3.12.11"
  },
  "toc": {
   "colors": {
    "hover_highlight": "#DAA520",
    "running_highlight": "#FF0000",
    "selected_highlight": "#FFD700"
   },
   "moveMenuLeft": true,
   "nav_menu": {
    "height": "84px",
    "width": "252px"
   },
   "navigate_menu": true,
   "number_sections": true,
   "sideBar": true,
   "threshold": 4,
   "toc_cell": false,
   "toc_section_display": "block",
   "toc_window_display": true
  }
 },
 "nbformat": 4,
 "nbformat_minor": 1
}
