{
 "cells": [
  {
   "cell_type": "code",
   "execution_count": 1,
   "metadata": {},
   "outputs": [],
   "source": [
    "%matplotlib inline\n",
    "import math\n",
    "import numpy as np\n",
    "from matplotlib import pyplot as plt"
   ]
  },
  {
   "cell_type": "markdown",
   "metadata": {},
   "source": [
    "## Using Python Libraries (SciPy) for Integration\n",
    "While learning basic rules (Riemann sums, trapezoid, Simpson) is essential, in practice you often rely on library routines that are:\n",
    "- More accurate (adaptive step size)\n",
    "- More convenient (automatic error estimates)\n",
    "- Able to handle infinite limits / oscillatory behavior\n",
    "\n",
    "### 1. `scipy.integrate.quad`\n",
    "High–quality adaptive integrator (wraps QUADPACK). Usage:\n",
    "```python\n",
    "from scipy.integrate import quad\n",
    "val, err_est = quad(f, a, b)\n",
    "```\n",
    "Gives an *estimate* `val` and an *absolute error bound* `err_est` (heuristic but usually reliable). You can supply `epsabs` (absolute tol) and `epsrel` (relative tol).\n",
    "\n",
    "Handles improper integrals:\n",
    "```python\n",
    "quad(f, 0, np.inf)    # infinite upper limit\n",
    "quad(f, -np.inf, np.inf)\n",
    "```\n",
    "\n",
    "### 2. Vectorized Simpson / Trapezoid\n",
    "If you already have sampled data values on a uniform or non-uniform grid:\n",
    "```python\n",
    "from scipy.integrate import simpson, trapezoid\n",
    "simpson(y, x=x)      # Simpson (needs odd number of points)\n",
    "trapezoid(y, x=x)    # Trapezoid\n",
    "```\n",
    "Both accept just `y` with implied spacing `dx` if uniform.\n",
    "\n",
    "### 3. When to Use What?\n",
    "| Situation | Recommended |\n",
    "|-----------|-------------|\n",
    "| Smooth function with cheap evaluations | `quad` (adaptive) |\n",
    "| Already have tabulated data | `simpson` (or `trapezoid` if only few points) |\n",
    "| Need very high precision | Increase `epsabs`, `epsrel` in `quad` or refine grid and use higher-order rules |\n",
    "| Infinite / semi-infinite interval | `quad` with `np.inf` bounds |\n",
    "\n",
    "### 4. Error Awareness\n",
    "- `quad` returns an error *estimate* (not a strict bound, but rarely far off for well-behaved functions).\n",
    "- `simpson`/`trapezoid` do NOT give an error estimate: you refine the grid and compare successive results.\n",
    "\n",
    "### 5. Strategy to Trust a Result\n",
    "1. Compute with a chosen method.\n",
    "2. Refine (halve `h` or tighten tolerances) and recompute.\n",
    "3. If results stabilize to desired digits, accept.\n",
    "\n",
    "Next: a code example comparing manual rules with `quad`."
   ]
  },
  {
   "cell_type": "markdown",
   "metadata": {},
   "source": [
    "---\n",
    "\n",
    "### Advanced: Adjusting Tolerances and Double Integrals\n",
    "\n",
    "`quad` lets you tighten or loosen accuracy:\n",
    "```python\n",
    "val, err = quad(f, a, b, epsabs=1e-10, epsrel=1e-10)\n",
    "```\n",
    "- `epsabs`: absolute error target.\n",
    "- `epsrel`: relative error target.\n",
    "The algorithm stops when estimated absolute error ≤ max(epsabs, epsrel*|val|).\n",
    "\n",
    "#### Double Integrals with `dblquad`\n",
    "For an integral\n",
    "$$ I = \\int_{x=a}^{b} \\int_{y=g_1(x)}^{g_2(x)} F(x,y)\\,dy\\,dx, $$\n",
    "use\n",
    "```python\n",
    "from scipy.integrate import dblquad\n",
    "I, err = dblquad(lambda y,x: F(x,y), a, b, g1, g2)\n",
    "```\n",
    "Note argument order: inner variable first in the lambda.\n",
    "\n",
    "If limits are simple constants you can also construct tensor grids and use Simpson/trapezoid in 2D, but adaptive `dblquad` handles curved boundaries cleanly.\n",
    "\n",
    "#### Higher Dimensions\n",
    "- `nquad` (general n-D with lists of bounds / callables)\n",
    "- Monte Carlo (random sampling) when dimension is large or region is irregular.\n",
    "\n",
    "Below: examples of refined `quad` tolerance and a double integral."
   ]
  },
  {
   "cell_type": "markdown",
   "metadata": {},
   "source": [
    "---\n",
    "\n",
    "### Example / Practice (Library Integration)\n",
    "Answer the following using SciPy:\n"
   ]
  },
  {
   "cell_type": "markdown",
   "metadata": {},
   "source": [
    "---\n",
    "\n",
    "1. Use `quad` to approximate $I_1 = \\int_0^1 e^{-x}\\sin(x^2)\\,dx$.\n",
    "   - Record the returned value and error estimate.\n",
    "   - Tighten tolerances to `epsabs=epsrel=1e-12`; how many more (or fewer) function evaluations does it report (see `quad`'s `full_output` if desired)?\n"
   ]
  },
  {
   "cell_type": "code",
   "execution_count": 2,
   "metadata": {},
   "outputs": [
    {
     "name": "stdout",
     "output_type": "stream",
     "text": [
      "--- Default Tolerances ---\n",
      "Approximate value of I_1: 0.150912567223\n",
      "Estimated error: 1.68e-15\n",
      "Number of function evaluations: 21\n",
      "----------------------------\n",
      "\n",
      "--- Tighter Tolerances (epsabs=1e-12, epsrel=1e-12) ---\n",
      "Approximate value of I_1: 0.150912567223\n",
      "Estimated error: 1.68e-15\n",
      "Number of function evaluations: 21\n",
      "\n",
      "Change in function evaluations: 0\n"
     ]
    }
   ],
   "source": [
    "import numpy as np\n",
    "from scipy.integrate import quad\n",
    "\n",
    "# Define the integrand for the first integral\n",
    "def f(x):\n",
    "    return np.exp(-x) * np.sin(x**2)\n",
    "\n",
    "# --- Part 1: Default Tolerances ---\n",
    "# Use full_output=True to get the number of function evaluations\n",
    "result1_default, error1_default, info1_default = quad(f, 0, 1, full_output=True)\n",
    "\n",
    "print(\"--- Default Tolerances ---\")\n",
    "print(f\"Approximate value of I_1: {result1_default:.12f}\")\n",
    "print(f\"Estimated error: {error1_default:.2e}\")\n",
    "print(f\"Number of function evaluations: {info1_default['neval']}\")\n",
    "print(\"-\" * 28)\n",
    "\n",
    "# --- Part 2: Tighter Tolerances ---\n",
    "# Set absolute and relative error tolerances to 1e-12\n",
    "result1_tight, error1_tight, info1_tight = quad(f, 0, 1, epsabs=1e-12, epsrel=1e-12, full_output=True)\n",
    "\n",
    "print(\"\\n--- Tighter Tolerances (epsabs=1e-12, epsrel=1e-12) ---\")\n",
    "print(f\"Approximate value of I_1: {result1_tight:.12f}\")\n",
    "print(f\"Estimated error: {error1_tight:.2e}\")\n",
    "print(f\"Number of function evaluations: {info1_tight['neval']}\")\n",
    "\n",
    "# --- Comparison ---\n",
    "eval_diff = info1_tight['neval'] - info1_default['neval']\n",
    "print(f\"\\nChange in function evaluations: {eval_diff}\")"
   ]
  },
  {
   "cell_type": "markdown",
   "metadata": {},
   "source": [
    "---\n",
    "\n",
    "2. Evaluate the improper integral $I_2 = \\int_0^{\\infty} e^{-x}\\,dx$ with `quad` and verify the value.\n"
   ]
  },
  {
   "cell_type": "code",
   "execution_count": 7,
   "metadata": {},
   "outputs": [
    {
     "name": "stdout",
     "output_type": "stream",
     "text": [
      "--- Numerical Evaluation using SciPy quad ---\n",
      "Approximate value of I_2: 1.0000000000000002\n",
      "Estimated error: 5.84e-11\n",
      "\n",
      "--- Analytical Verification ---\n",
      "The exact value of the integral is: 1.0\n"
     ]
    }
   ],
   "source": [
    "\n",
    "# Define the integrand for the second integral\n",
    "def g(x):\n",
    "  return np.exp(-x)\n",
    "\n",
    "# --- Numerical Evaluation ---\n",
    "# Use np.inf for the upper limit of integration\n",
    "result2, error2 = quad(g, 0, np.inf)\n",
    "\n",
    "print(\"--- Numerical Evaluation using SciPy quad ---\")\n",
    "print(f\"Approximate value of I_2: {result2}\")\n",
    "print(f\"Estimated error: {error2:.2e}\")\n",
    "\n",
    "# --- Analytical Verification ---\n",
    "# The analytical solution is:\n",
    "# integral(e^-x) from 0 to infinity = [-e^-x] from 0 to infinity\n",
    "# = lim(b->inf) [-e^-b] - [-e^-0]\n",
    "# = 0 - (-1) = 1\n",
    "analytical_solution = 1.0\n",
    "print(f\"\\n--- Analytical Verification ---\")\n",
    "print(f\"The exact value of the integral is: {analytical_solution}\")\n"
   ]
  },
  {
   "cell_type": "markdown",
   "metadata": {},
   "source": [
    "---\n",
    "\n",
    "3. Compute the triangular-region double integral\n",
    "   $$ I_3 = \\int_{x=0}^{1} \\int_{y=0}^{x} (x^2 + y^2)\\,dy\\,dx $$\n",
    "   and compare with the exact $1/3$.\n"
   ]
  },
  {
   "cell_type": "code",
   "execution_count": 10,
   "metadata": {},
   "outputs": [
    {
     "name": "stdout",
     "output_type": "stream",
     "text": [
      "--- Triangular-Region Double Integral ---\n",
      "Numerical result: 0.33333333\n",
      "Estimated error: 1.47e-14\n",
      "Exact value:      0.33333333\n"
     ]
    }
   ],
   "source": [
    "import numpy as np\n",
    "from scipy.integrate import dblquad\n",
    "\n",
    "# --- Numerical Calculation ---\n",
    "# Define the integrand f(y, x). Note: dblquad expects the inner variable (y) first.\n",
    "def integrand3(y, x):\n",
    "    return x**2 + y**2\n",
    "\n",
    "# The outer integral is over x, from 0 to 1.\n",
    "x_lower = 0\n",
    "x_upper = 1\n",
    "\n",
    "# The inner integral is over y. Its limits can be functions of x.\n",
    "# y goes from 0 to x.\n",
    "y_lower = 0\n",
    "y_upper = lambda x: x\n",
    "\n",
    "# Perform the double integration\n",
    "result3, error3 = dblquad(integrand3, x_lower, x_upper, y_lower, y_upper)\n",
    "\n",
    "# --- Comparison ---\n",
    "exact_value = 1/3\n",
    "\n",
    "print(\"--- Triangular-Region Double Integral ---\")\n",
    "print(f\"Numerical result: {result3:.8f}\")\n",
    "print(f\"Estimated error: {error3:.2e}\")\n",
    "print(f\"Exact value:      {exact_value:.8f}\")\n"
   ]
  },
  {
   "cell_type": "markdown",
   "metadata": {},
   "source": [
    "---\n",
    "\n",
    "4. (Exploration) Change the curved-boundary example to $\\int_0^1 \\int_0^{x^2} \\cos(xy)\\,dy\\,dx$; estimate its value.\n"
   ]
  },
  {
   "cell_type": "code",
   "execution_count": 6,
   "metadata": {},
   "outputs": [
    {
     "name": "stdout",
     "output_type": "stream",
     "text": [
      "--- Curved-Boundary Double Integral ---\n",
      "Estimated value: 0.31536102\n",
      "Estimated error: 9.32e-15\n"
     ]
    }
   ],
   "source": [
    "import numpy as np\n",
    "from scipy.integrate import dblquad\n",
    "\n",
    "# --- Numerical Calculation ---\n",
    "# Define the integrand f(y, x).\n",
    "def integrand4(y, x):\n",
    "    return np.cos(x * y)\n",
    "\n",
    "# The outer integral is over x, from 0 to 1.\n",
    "x_lower = 0\n",
    "x_upper = 1\n",
    "\n",
    "# The inner integral is over y, from 0 to x^2.\n",
    "y_lower = 0\n",
    "y_upper = lambda x: x**2\n",
    "\n",
    "# Perform the double integration\n",
    "result4, error4 = dblquad(integrand4, x_lower, x_upper, y_lower, y_upper)\n",
    "\n",
    "print(\"--- Curved-Boundary Double Integral ---\")\n",
    "print(f\"Estimated value: {result4:.8f}\")\n",
    "print(f\"Estimated error: {error4:.2e}\")"
   ]
  }
 ],
 "metadata": {
  "kernelspec": {
   "display_name": "Python 3",
   "language": "python",
   "name": "python3"
  },
  "language_info": {
   "codemirror_mode": {
    "name": "ipython",
    "version": 3
   },
   "file_extension": ".py",
   "mimetype": "text/x-python",
   "name": "python",
   "nbconvert_exporter": "python",
   "pygments_lexer": "ipython3",
   "version": "3.11.3"
  },
  "toc": {
   "colors": {
    "hover_highlight": "#DAA520",
    "running_highlight": "#FF0000",
    "selected_highlight": "#FFD700"
   },
   "moveMenuLeft": true,
   "nav_menu": {
    "height": "48px",
    "width": "251px"
   },
   "navigate_menu": true,
   "number_sections": false,
   "sideBar": true,
   "threshold": 4,
   "toc_cell": false,
   "toc_section_display": "block",
   "toc_window_display": false
  }
 },
 "nbformat": 4,
 "nbformat_minor": 1
}
