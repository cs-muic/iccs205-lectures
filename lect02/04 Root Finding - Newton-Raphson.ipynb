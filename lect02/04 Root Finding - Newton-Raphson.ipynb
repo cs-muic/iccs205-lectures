{
 "cells": [
  {
   "cell_type": "markdown",
   "metadata": {},
   "source": [
    "### The Newton-Raphson method: A Fast Root-Finding Algorithm\n",
    "\n",
    "The Newton-Raphson method, often called Newton's method, is a powerful and fast numerical technique for finding successively better approximations to the roots (or zeros) of a real-valued function. In simpler terms, it's a way to find the $x$-value where a function $f(x)$ crosses the x-axis, i.e., where $f(x) = 0$.\n",
    "\n",
    "-----"
   ]
  },
  {
   "cell_type": "markdown",
   "metadata": {},
   "source": [
    "\n",
    "### The Core Idea: Tangent Lines as Approximations\n",
    "\n",
    "Imagine you're standing on a curved hill represented by a function, $f(x)$, and you want to find where the hill meets the flat ground (the x-axis).\n",
    "\n",
    "1.  **Make a Guess:** You start at some point on the hill, let's call your initial guess $x_0$.\n",
    "2.  **Find the Tangent:** At that point, $(x_0, f(x_0))$, you find the slope of the hill. This slope is given by the derivative, $f'(x_0)$. You then draw a straight line that just touches the curve at your point—this is the **tangent line**.\n",
    "3.  **Follow the Tangent:** Instead of following the curve (which is complex), you follow this straight tangent line down until it hits the ground (the x-axis). This intersection point, let's call it $x_1$, is your new, improved guess for the root.\n",
    "4.  **Repeat:** You then repeat the process from $x_1$. You go up to the curve at $(x_1, f(x_1))$, draw a new tangent line, and follow it down to the x-axis to get your next guess, $x_2$.\n",
    "\n",
    "You keep repeating this process, and you'll often find that you zoom in on the actual root incredibly quickly.\n",
    "\n",
    "Mathematically, the formula to get from one guess, $x_n$, to the next, $x_{n+1}$, is derived from the equation of the tangent line. It is:\n",
    "\n",
    "$$x_{n+1} = x_n - \\frac{f(x_n)}{f'(x_n)}$$\n",
    "\n",
    "Here:\n",
    "\n",
    "  * $x_n$ is your **current guess**.\n",
    "  * $f(x_n)$ is the value of the function at your current guess.\n",
    "  * $f'(x_n)$ is the value of the derivative (the slope) at your current guess.\n",
    "  * $x_{n+1}$ is your **next, improved guess**.\n",
    "\n",
    "-----\n"
   ]
  },
  {
   "cell_type": "markdown",
   "metadata": {},
   "source": [
    "\n",
    "### The Algorithm Step-by-Step\n",
    "\n",
    "The process is straightforward:\n",
    "\n",
    "1.  **Define the Function:** Identify the function $f(x)$ you want to find the root of.\n",
    "2.  **Find the Derivative:** Calculate the derivative of the function, $f'(x)$.\n",
    "3.  **Make an Initial Guess:** Choose an initial starting point, $x_0$. A good guess is crucial!\n",
    "4.  **Iterate:** Apply the Newton-Raphson formula repeatedly to generate a sequence of approximations ($x_1, x_2, x_3, \\ldots$).\n",
    "5.  **Stop:** Continue iterating until the change between successive guesses ($|x_{n+1} - x_n|$) is smaller than a desired tolerance (e.g., $10^{-8}$), or when $f(x_n)$ is very close to zero.\n",
    "\n",
    "#### When Can It Go Wrong?\n",
    "\n",
    "Newton's method is fast, but not foolproof. It can fail if:\n",
    "\n",
    "  * **The derivative is zero:** If $f'(x_n) = 0$, you'll have division by zero. Geometrically, this means the tangent line is horizontal and will never intersect the x-axis.\n",
    "  * **Bad Initial Guess:** A poor starting guess can cause the iterations to diverge and wander off to infinity or get stuck in an oscillation.\n",
    "  * **Stationary Points:** If your guess is near a local maximum or minimum, the method can perform poorly.\n",
    "\n",
    "-----\n"
   ]
  },
  {
   "cell_type": "markdown",
   "metadata": {},
   "source": [
    "\n",
    "### Example: Finding the Root of $f(x) = x^3 - x - 1$\n",
    "\n",
    "Let's find the root of the function $f(x) = x^3 - x - 1$.\n",
    "\n",
    "1.  **Function:** $f(x) = x^3 - x - 1$\n",
    "2.  **Derivative:** $f'(x) = 3x^2 - 1$\n",
    "3.  **Initial Guess:** Let's look at a plot of the function. It seems to cross the x-axis somewhere between 1 and 2. Let's pick an initial guess of $x_0 = 1.5$.\n",
    "\n",
    "Now, let's iterate:\n",
    "\n",
    "  * **Iteration 1:**\n",
    "    $f(1.5) = (1.5)^3 - 1.5 - 1 = 3.375 - 1.5 - 1 = 0.875$\n",
    "    $f'(1.5) = 3(1.5)^2 - 1 = 3(2.25) - 1 = 5.75$\n",
    "    $x_1 = 1.5 - \\frac{0.875}{5.75} \\approx 1.347826$\n",
    "\n",
    "  * **Iteration 2:**\n",
    "    $f(1.347826) \\approx 0.10068$\n",
    "    $f'(1.347826) \\approx 4.44991$\n",
    "    $x_2 = 1.347826 - \\frac{0.10068}{4.44991} \\approx 1.325200$\n",
    "\n",
    "  * **Iteration 3:**\n",
    "    $f(1.325200) \\approx 0.00206$\n",
    "    $f'(1.325200) \\approx 4.26847$\n",
    "    $x_3 = 1.325200 - \\frac{0.00206}{4.26847} \\approx 1.324718$\n",
    "\n",
    "  * **Iteration 4:**\n",
    "    $f(1.324718) \\approx 0.0000001$\n",
    "    ...and we can stop here. The root is approximately **1.324718**. Notice how quickly the value of $f(x)$ got close to zero\\!\n",
    "\n",
    "-----\n",
    "\n"
   ]
  },
  {
   "cell_type": "markdown",
   "metadata": {},
   "source": [
    "\n",
    "### Python Implementation\n",
    "\n",
    "Here's how to implement this in Python using `numpy` for calculations and `matplotlib` for plotting."
   ]
  },
  {
   "cell_type": "code",
   "execution_count": 8,
   "metadata": {},
   "outputs": [],
   "source": [
    "#load all the necessary libraries\n",
    "%matplotlib inline\n",
    "from matplotlib import pyplot as plt\n",
    "import numpy as np"
   ]
  },
  {
   "cell_type": "code",
   "execution_count": 9,
   "metadata": {},
   "outputs": [],
   "source": [
    "\n",
    "# Define the function and its derivative\n",
    "def f(x):\n",
    "    return x**3 - x - 1\n",
    "\n",
    "def f_prime(x):\n",
    "    return 3*x**2 - 1"
   ]
  },
  {
   "cell_type": "code",
   "execution_count": 10,
   "metadata": {},
   "outputs": [],
   "source": [
    "\n",
    "def newton_raphson(initial_guess, tolerance=1e-8, max_iterations=100):\n",
    "    \"\"\"\n",
    "    Finds the root of a function using the Newton-Raphson method.\n",
    "    \n",
    "    Args:\n",
    "        initial_guess (float): The starting point for the iteration.\n",
    "        tolerance (float): The desired precision of the result.\n",
    "        max_iterations (int): The maximum number of iterations to perform.\n",
    "        \n",
    "    Returns:\n",
    "        A tuple containing the root, the history of guesses, and f(root).\n",
    "    \"\"\"\n",
    "    x_n = initial_guess\n",
    "    history = [x_n] # Store the guesses to visualize them later\n",
    "\n",
    "    for i in range(max_iterations):\n",
    "        fx = f(x_n)\n",
    "        fpx = f_prime(x_n)\n",
    "\n",
    "        # Check for division by zero (horizontal tangent)\n",
    "        if abs(fpx) < 1e-12:\n",
    "            print(\"Derivative is zero. Newton's method fails.\")\n",
    "            return None, history, fx\n",
    "\n",
    "        # Calculate the next guess\n",
    "        x_next = x_n - fx / fpx\n",
    "        history.append(x_next)\n",
    "\n",
    "        # Check for convergence\n",
    "        if abs(x_next - x_n) < tolerance:\n",
    "            print(f\"Converged after {i+1} iterations.\")\n",
    "            return x_next, history, f(x_next)\n",
    "        \n",
    "        x_n = x_next\n",
    "\n",
    "    print(\"Exceeded maximum iterations. Did not converge.\")\n",
    "    return None, history, f(x_n)\n"
   ]
  },
  {
   "cell_type": "code",
   "execution_count": 17,
   "metadata": {},
   "outputs": [
    {
     "name": "stdout",
     "output_type": "stream",
     "text": [
      "Converged after 5 iterations.\n",
      "\n",
      "Initial Guess: x_0 = 1.5\n",
      "Calculated Root: x = 1.32471796\n",
      "Value of f(x) at root: f(1.32471796) = 2.22044605e-16\n"
     ]
    },
    {
     "data": {
      "image/png": "[encoded data removed]",
      "text/plain": [
       "<Figure size 1200x700 with 1 Axes>"
      ]
     },
     "metadata": {},
     "output_type": "display_data"
    }
   ],
   "source": [
    "# --- Main Execution ---\n",
    "# Set an initial guess\n",
    "x0 = 1.5\n",
    "\n",
    "# Run the method\n",
    "root, guesses, f_root = newton_raphson(x0)\n",
    "\n",
    "if root is not None:\n",
    "    print(f\"\\nInitial Guess: x_0 = {x0}\")\n",
    "    print(f\"Calculated Root: x = {root:.8f}\")\n",
    "    print(f\"Value of f(x) at root: f({root:.8f}) = {f_root:.8e}\")\n",
    "\n",
    "# --- Plotting ---\n",
    "# Create a range of x values for plotting the function\n",
    "x_vals = np.linspace(0, 2.5, 400)\n",
    "y_vals = f(x_vals)\n",
    "\n",
    "plt.style.use('seaborn-v0_8-whitegrid')\n",
    "fig, ax = plt.subplots(figsize=(12, 7))\n",
    "\n",
    "# Plot the function\n",
    "ax.plot(x_vals, y_vals, label='$f(x) = x^3 - x - 1$', color='blue', linewidth=2)\n",
    "ax.axhline(0, color='black', linestyle='--', linewidth=0.7) # x-axis\n",
    "\n",
    "# Plot the iterative steps\n",
    "for i in range(len(guesses) - 1):\n",
    "    x_i = guesses[i]\n",
    "    x_i_plus_1 = guesses[i+1]\n",
    "    \n",
    "    # Plot the point on the curve\n",
    "    ax.plot(x_i, f(x_i), 'ro') \n",
    "    \n",
    "    # Plot the tangent line from (x_i, f(x_i)) to (x_{i+1}, 0)\n",
    "    ax.plot([x_i, x_i_plus_1], [f(x_i), 0], 'r--', linewidth=1.2)\n",
    "    \n",
    "    ax.text(x_i, f(x_i) + 0.3, f'$x_{i}$', fontsize=12)\n",
    "\n",
    "# Mark the final root\n",
    "if root is not None:\n",
    "    ax.plot(root, f(root), 'g*', markersize=8, label=f'Found Root ≈ {root:.4f}')\n",
    "\n",
    "# Formatting the plot\n",
    "ax.set_title(\"Newton-Raphson Method Visualization\", fontsize=16)\n",
    "ax.set_xlabel(\"x\", fontsize=12)\n",
    "ax.set_ylabel(\"f(x)\", fontsize=12)\n",
    "ax.set_ylim(-0.5, 2)\n",
    "ax.set_xlim(1, 1.6)\n",
    "ax.legend(fontsize=12)\n",
    "ax.grid(True)\n",
    "\n",
    "plt.show()"
   ]
  },
  {
   "cell_type": "markdown",
   "metadata": {},
   "source": [
    "-----\n",
    "\n",
    "### Exercise 1: Find root for $x = 5 \\cos(x)$ using Newton-Raphson Method\n",
    "\n",
    "Implement the Newton-Raphson method to find the root of the equation $x = 5 \\cos(x)$. Answer the following questions:\n",
    "\n",
    "- What is your function $f(x)$ to be used in Newton-Raphson method?\n",
    "- What is/are your initial guess(es)? How did you choose it?\n",
    "- What is your tolerance?\n",
    "- What is/are your roots? How many roots are there?\n",
    "- What is your accuracy?\n",
    "- What is the difference between accuracy and tolerance?\n",
    "- How many iterations did it take to converge?"
   ]
  },
  {
   "cell_type": "code",
   "execution_count": null,
   "metadata": {},
   "outputs": [],
   "source": []
  },
  {
   "cell_type": "markdown",
   "metadata": {},
   "source": [
    "-----\n",
    "\n",
    "### Exercise 2: Does the bisection method work for $f(x) = x^2$?\n",
    "\n",
    "Why or why not? Explain. If it works, try to find the root using this method."
   ]
  },
  {
   "cell_type": "code",
   "execution_count": null,
   "metadata": {},
   "outputs": [],
   "source": []
  }
 ],
 "metadata": {
  "hide_input": false,
  "kernelspec": {
   "display_name": "iccs-205-numerical-computation-QOrFbCh5-py3.12",
   "language": "python",
   "name": "python3"
  },
  "language_info": {
   "codemirror_mode": {
    "name": "ipython",
    "version": 3
   },
   "file_extension": ".py",
   "mimetype": "text/x-python",
   "name": "python",
   "nbconvert_exporter": "python",
   "pygments_lexer": "ipython3",
   "version": "3.12.11"
  },
  "toc": {
   "colors": {
    "hover_highlight": "#DAA520",
    "running_highlight": "#FF0000",
    "selected_highlight": "#FFD700"
   },
   "moveMenuLeft": true,
   "nav_menu": {
    "height": "84px",
    "width": "252px"
   },
   "navigate_menu": true,
   "number_sections": true,
   "sideBar": true,
   "threshold": 4,
   "toc_cell": false,
   "toc_section_display": "block",
   "toc_window_display": true
  }
 },
 "nbformat": 4,
 "nbformat_minor": 1
}
