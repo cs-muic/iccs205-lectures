{
 "cells": [
  {
   "cell_type": "code",
   "execution_count": null,
   "metadata": {
    "ExecuteTime": {
     "end_time": "2020-01-28T18:27:00.173939Z",
     "start_time": "2020-01-28T18:26:58.533035Z"
    }
   },
   "outputs": [],
   "source": [
    "%matplotlib inline\n",
    "import math\n",
    "import numpy as np\n",
    "from matplotlib import pyplot as plt"
   ]
  },
  {
   "cell_type": "markdown",
   "metadata": {},
   "source": [
    "# Linear Equation"
   ]
  },
  {
   "cell_type": "markdown",
   "metadata": {},
   "source": [
    "A linear equation is an equation that describes a straight line when plotted on a graph e.g. $x+4y+5z = 5$. There is no terms like $x^2$ or $xy$.\n",
    "\n",
    "For example the system of linear equations:\n",
    "$$\n",
    "\\begin{align*}\n",
    "x_1 + x_2 + x_3 &= 6 \\\\\n",
    "2x_1 + 3x_2 + x_3 &= 11 \\\\\n",
    "-3x_1 + 4x_2 - 2x_3 &= -1\n",
    "\\end{align*}\n",
    "$$\n",
    "\n",
    "In general, a system of linear equations can be written in matrix form as:\n",
    "\n",
    "$$\n",
    "A x = B\n",
    "$$\n",
    "\n",
    "where $A = \\begin{bmatrix}\n",
    "1 & 1 & 1 \\\\\n",
    "2 & 3 & 1 \\\\\n",
    "-3 & 4 & -2\n",
    "\\end{bmatrix}$, $x = \\begin{bmatrix}\n",
    "x_1 \\\\\n",
    "x_2 \\\\\n",
    "x_3\n",
    "\\end{bmatrix}$ , and $B = \\begin{bmatrix}\n",
    "6 \\\\\n",
    "11 \\\\\n",
    "-1\n",
    "\\end{bmatrix}$. Our goal is to find $x$.\n",
    "\n",
    "\n",
    "\n",
    "## Solving using Gaussian Elimination:\n",
    "\n",
    "Gaussian elimination is a method for solving systems of linear equations. It consists of two steps:\n",
    "\n",
    "1. **Forward elimination:** Transform the matrix $A$ into an upper triangular matrix.\n",
    "2. **Back substitution:** Solve for the unknowns starting from the last equation.\n",
    "\n"
   ]
  },
  {
   "cell_type": "markdown",
   "metadata": {},
   "source": [
    "show how to do step-by-step for forward elimination the example above\n",
    "To perform forward elimination step-by-step for the example system:\n",
    "\n",
    "1. **Write the augmented matrix:**\n",
    "\n",
    "$$\n",
    "\\left[\n",
    "\\begin{array}{ccc|c}\n",
    "1 & 1 & 1 & 6 \\\\\n",
    "2 & 3 & 1 & 11 \\\\\n",
    "-3 & 4 & -2 & -1\n",
    "\\end{array}\n",
    "\\right]\n",
    "$$\n",
    "\n",
    "2. **Eliminate $x_1$ from rows 2 and 3:**\n",
    "\n",
    "- Row 2: $R_2 - 2R_1$\n",
    "- Row 3: $R_3 + 3R_1$\n",
    "\n",
    "Result:\n",
    "\n",
    "$$\n",
    "\\left[\n",
    "\\begin{array}{ccc|c}\n",
    "1 & 1 & 1 & 6 \\\\\n",
    "0 & 1 & -1 & -1 \\\\\n",
    "0 & 7 & 1 & 17\n",
    "\\end{array}\n",
    "\\right]\n",
    "$$\n",
    "\n",
    "3. **Eliminate $x_2$ from row 3:**\n",
    "\n",
    "- Row 3: $R_3 - 7R_2$\n",
    "\n",
    "Result:\n",
    "\n",
    "$$\n",
    "\\left[\n",
    "\\begin{array}{ccc|c}\n",
    "1 & 1 & 1 & 6 \\\\\n",
    "0 & 1 & -1 & -1 \\\\\n",
    "0 & 0 & 8 & 24\n",
    "\\end{array}\n",
    "\\right]\n",
    "$$\n",
    "\n",
    "Now the matrix is upper triangular and ready for back substitution.\n"
   ]
  },
  {
   "cell_type": "markdown",
   "metadata": {},
   "source": [
    "step-by-step back substitution:\n",
    "\n",
    "1. Start with the upper triangular matrix from forward elimination:\n",
    "\n",
    "$$\n",
    "\\left[\n",
    "\\begin{array}{ccc|c}\n",
    "1 & 1 & 1 & 6 \\\\\n",
    "0 & 1 & -1 & -1 \\\\\n",
    "0 & 0 & 8 & 24\n",
    "\\end{array}\n",
    "\\right]\n",
    "$$\n",
    "\n",
    "2. **Solve for $x_3$ using the last row:**\n",
    "\n",
    "$$\n",
    "8x_3 = 24 \\implies x_3 = 3\n",
    "$$\n",
    "\n",
    "3. **Substitute $x_3$ into the second row to solve for $x_2$:**\n",
    "\n",
    "$$\n",
    "x_2 - x_3 = -1 \\implies x_2 - 3 = -1 \\implies x_2 = 2\n",
    "$$\n",
    "\n",
    "4. **Substitute $x_2$ and $x_3$ into the first row to solve for $x_1$:**\n",
    "\n",
    "$$\n",
    "x_1 + x_2 + x_3 = 6 \\implies x_1 + 2 + 3 = 6 \\implies x_1 = 1\n",
    "$$\n",
    "\n",
    "**Final solution:**\n",
    "\n",
    "$$\n",
    "x_1 = 1,\\quad x_2 = 2,\\quad x_3 = 3\n",
    "$$"
   ]
  },
  {
   "cell_type": "code",
   "execution_count": null,
   "metadata": {},
   "outputs": [],
   "source": [
    "'''\n",
    "write down your code here\n",
    "A = ...\n",
    "B = ...\n",
    "def forward_elim(A, B):\n",
    "    ...\n",
    "    return A, B\n",
    "def back_sub(A, B):\n",
    "    ...\n",
    "    return A, B\n",
    "'''\n",
    "\n"
   ]
  },
  {
   "cell_type": "code",
   "execution_count": null,
   "metadata": {},
   "outputs": [],
   "source": [
    "#test your function with the following code\n",
    "\n",
    "np.random.seed(100)\n",
    "A = np.random.rand(100,100)\n",
    "x = np.random.rand(100)\n",
    "B = A @ x\n",
    "_, sol = gauss_elim(A, B)\n",
    "print(\"solution error:\", x - sol)"
   ]
  },
  {
   "cell_type": "markdown",
   "metadata": {},
   "source": [
    "In practice, you can use a functon `np.linalg.solve`"
   ]
  },
  {
   "cell_type": "code",
   "execution_count": null,
   "metadata": {},
   "outputs": [],
   "source": [
    "sol2 = np.linalg.solve(A, B)\n",
    "print(\"solution error:\", x - sol2)"
   ]
  },
  {
   "cell_type": "markdown",
   "metadata": {},
   "source": [
    "The time complexity for solving a system of $n$ linear equations  ($A$ is $n \\times n$ matrix) using Gaussian elimination is $O(n^3)$.\n",
    "\n",
    "The best-known asymptotic running time is $O(n^\\omega)$ (same running time as two n×n matrix multiplication).\n",
    "\n",
    "The exponent $\\omega$ determines how fast we can multiply matrices and solve linear systems. Every tiny improvement means huge speedups for scientific computing, machine learning, and physics simulations! Reducing $\\omega$ is a major achievement in theoretical computer science.\n",
    "\n",
    "\n",
    "| Year | Bound on ω | Authors |\n",
    "|------|------------|-----------------------------------------------|\n",
    "| 1969 | 2.8074     | Strassen                                   |\n",
    "| 1978 | 2.796      | Pan                                        |\n",
    "| 1979 | 2.780      | Bini, Capovani, Romani                     |\n",
    "| 1981 | 2.522      | Schönhage                                  |\n",
    "| 1981 | 2.517      | Romani                                     |\n",
    "| 1981 | 2.496      | Coppersmith, Winograd                      |\n",
    "| 1986 | 2.479      | Strassen                                   |\n",
    "| 1990 | 2.3755     | Coppersmith, Winograd                      |\n",
    "| 2010 | 2.3737     | Stothers                                   |\n",
    "| 2012 | 2.3729     | Williams                                   |\n",
    "| 2014 | 2.3728639  | Le Gall                                    |\n",
    "| 2020 | 2.3728596  | Alman, Williams                            |\n",
    "| 2022 | 2.371866   | Duan, Wu, Zhou                             |\n",
    "| 2024 | 2.371552   | Williams, Xu, Xu, and Zhou                 |\n",
    "| 2024 | 2.371339   | Alman, Duan, Williams, Xu, Xu, and Zhou    |\n",
    "\n"
   ]
  }
 ],
 "metadata": {
  "hide_input": false,
  "kernelspec": {
   "display_name": "Python 3",
   "language": "python",
   "name": "python3"
  },
  "language_info": {
   "codemirror_mode": {
    "name": "ipython",
    "version": 3
   },
   "file_extension": ".py",
   "mimetype": "text/x-python",
   "name": "python",
   "nbconvert_exporter": "python",
   "pygments_lexer": "ipython3",
   "version": "3.11.3"
  },
  "toc": {
   "colors": {
    "hover_highlight": "#DAA520",
    "running_highlight": "#FF0000",
    "selected_highlight": "#FFD700"
   },
   "moveMenuLeft": true,
   "nav_menu": {
    "height": "30px",
    "width": "252px"
   },
   "navigate_menu": true,
   "number_sections": false,
   "sideBar": true,
   "threshold": 4,
   "toc_cell": false,
   "toc_section_display": "block",
   "toc_window_display": false
  }
 },
 "nbformat": 4,
 "nbformat_minor": 1
}
