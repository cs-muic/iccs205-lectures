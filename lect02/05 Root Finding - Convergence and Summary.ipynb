{
 "cells": [
  {
   "cell_type": "markdown",
   "metadata": {},
   "source": [
    "### Convergence\n",
    "\n",
    "Convergence is the heart of iterative methods. It describes how quickly and reliably a sequence of approximations, let's call them $x_n$, approaches the true root, $\\alpha$.\n",
    "\n",
    "We measure convergence in two ways:\n",
    "\n",
    "1.  **Order of Convergence**: This tells us the *speed* of convergence. If $e_n = |x_n - \\alpha|$ is the error at iteration $n$, the order of convergence $p$ is given by:\n",
    "    $$\\lim_{n \\to \\infty} \\frac{|e_{n+1}|}{|e_n|^p} = \\lambda$$\n",
    "    where $\\lambda$ is a constant.\n",
    "    * If $p=1$, we have **linear convergence**. The error is reduced by a roughly constant factor at each step. (Slow 🐢)\n",
    "    * If $p=2$, we have **quadratic convergence**. The number of correct decimal places roughly doubles with each iteration. (Fast 🚀)\n",
    "\n",
    "2.  **Guaranteed Convergence**: This tells us if the method is *guaranteed* to find a root under certain conditions. Some methods are robust and always work if you start them correctly, while others can fail spectacularly.\n",
    "\n",
    "Now, let's explore some of the most important methods.\n",
    "\n",
    "---\n"
   ]
  },
  {
   "cell_type": "markdown",
   "metadata": {},
   "source": [
    "\n",
    "### Fixed-Point Iteration: The Rearrangement\n",
    "\n",
    "This method reframes the problem. Instead of solving $f(x) = 0$, we rearrange it into the form $x = g(x)$. A root of $f(x)$ is now a \"fixed point\" of $g(x)$, where the input equals the output.\n",
    "\n",
    "**Convergence**:\n",
    "* **Order**: Typically has **linear convergence**.\n",
    "* **Guarantee**: Convergence is **not guaranteed**. It only converges if the derivative of the iteration function, $|g'(x)|$, is less than 1 near the root. If $|g'(x)| \\ge 1$, the method will diverge, often dramatically. The choice of $g(x)$ is critical.\n",
    "\n",
    "| Pros                                        | Cons                                                    |\n",
    "| ------------------------------------------- | ------------------------------------------------------- |\n",
    "| ✅ Simple iterative formula                 | ❌ **Not guaranteed to converge** |\n",
    "| ✅ Can be very fast if $g'(x)$ is close to 0 | 🐢 Usually slow (linear convergence)                    |\n",
    "| ✅ Forms the basis for other methods        | 📉 Finding a suitable $g(x)$ can be difficult         |\n",
    "\n",
    "\n",
    "---"
   ]
  },
  {
   "cell_type": "markdown",
   "metadata": {},
   "source": [
    "\n",
    "### The Bisection Method: Slow and Steady\n",
    "\n",
    "The Bisection Method is the most intuitive and reliable root-finding algorithm. It's like trapping a lion in a cage by constantly shrinking the cage.\n",
    "\n",
    "**Convergence**:\n",
    "* **Order**: The Bisection Method has **linear convergence** with a rate of $1/2$. The error is halved at every step. It's slow but predictable.\n",
    "* **Guarantee**: It is **guaranteed** to converge to a root if you start with a valid interval $[a, b]$.\n",
    "\n",
    "| Pros                                       | Cons                                     |\n",
    "| ------------------------------------------ | ---------------------------------------- |\n",
    "| ✅ **Always converges** (if started right) | 🐢 **Slow** (linear convergence)         |\n",
    "| ✅ Simple to implement and understand      | 📉 Requires two initial guesses ($a, b$) |\n",
    "| ✅ Error bound is known in advance         | 📉 Can't find roots where $f(x)$ doesn't cross the x-axis (e.g., $x^2$) |\n",
    "\n",
    "---\n"
   ]
  },
  {
   "cell_type": "markdown",
   "metadata": {},
   "source": [
    "\n",
    "### Newton's Method (Newton-Raphson): The Tangent Line\n",
    "\n",
    "Newton's Method is one of the most powerful and famous root-finding algorithms. It uses tangent lines to approximate the root.\n",
    "\n",
    "**Convergence**:\n",
    "* **Order**: When it works, it exhibits **quadratic convergence**, which is incredibly fast.\n",
    "* **Guarantee**: Convergence is **not guaranteed**. It can fail if:\n",
    "    * The derivative $f'(x_n)$ is zero or close to zero.\n",
    "    * The initial guess $x_0$ is too far from the actual root.\n",
    "\n",
    "\n",
    "\n",
    "| Pros                                  | Cons                                                         |\n",
    "| ------------------------------------- | ------------------------------------------------------------ |\n",
    "| 🚀 **Extremely fast** (quadratic)     | ❌ **Not guaranteed to converge** |\n",
    "| ✅ Requires only one initial guess    | 📉 Can be sensitive to the initial guess                     |\n",
    "| ✅ Generalizes to higher dimensions | 📉 Requires calculation of the derivative, $f'(x)$, which can be complex or costly |\n",
    "\n",
    "---\n"
   ]
  },
  {
   "cell_type": "markdown",
   "metadata": {},
   "source": [
    "\n",
    "### Comparison of Methods\n",
    "\n",
    "Let's summarize these methods and add the **Secant Method** for comparison. The Secant Method is a variation of Newton's Method that approximates the derivative using a finite difference, avoiding the need to calculate it analytically.\n",
    "\n",
    "| Method              | Convergence Order        | Guarantee       | Initial Guess(es) Needed | Derivative $f'(x)$ Needed? | Cost per Iteration |\n",
    "| ------------------- | ------------------------ | --------------- | ------------------------ | -------------------------- | ------------------ |\n",
    "| **Bisection** | Linear ($p=1$)           | **Guaranteed** | 2 (bracketing)           | No                         | Low                |\n",
    "| **Fixed-Point** | Linear ($p=1$)           | Not Guaranteed  | 1                        | No                         | Low                |\n",
    "| **Newton's** | Quadratic ($p=2$)        | Not Guaranteed  | 1                        | **Yes** | High               |\n",
    "| **Secant (Not in the course)** | Super-linear ($p \\approx 1.618$) | Not Guaranteed  | 2                        | No                         | Medium             |\n",
    "\n",
    "---\n",
    "\n",
    "### Real-World Application: Brent's Method\n",
    "\n",
    "In the real world, no single method is perfect. We want the speed of Newton's Method but the reliability of Bisection. This leads to hybrid methods like **Brent's Method**.\n",
    "\n",
    "**Brent's Method** is a sophisticated algorithm used in many scientific and engineering software packages (like MATLAB's `fzero` function, or `scipy.optimize.brentq` in Python). It cleverly combines:\n",
    "* The **Bisection Method** for guaranteed convergence.\n",
    "* The **Secant Method** for fast approximation.\n",
    "* **Inverse Quadratic Interpolation** for even faster convergence.\n",
    "\n",
    "It essentially uses the fast methods whenever possible but constantly checks if things are going well. If the fast methods seem to be failing or stepping outside the known root-bracketing interval, it falls back to the slow-but-sure Bisection Method. This gives you the best of both worlds: **robustness and speed**.\n",
    "\n",
    "----"
   ]
  },
  {
   "cell_type": "markdown",
   "metadata": {},
   "source": [
    "\n",
    "### Conclusion\n",
    "\n",
    "Choosing a root-finding method is a trade-off between speed and reliability.\n",
    "* For **guaranteed results**, use the **Bisection Method**.\n",
    "* For **maximum speed** (and if you can calculate the derivative), use **Newton's Method**.\n",
    "* For a **practical balance**, hybrid approaches like **Brent's Method** are the professional's choice."
   ]
  },
  {
   "cell_type": "markdown",
   "metadata": {},
   "source": []
  }
 ],
 "metadata": {
  "hide_input": false,
  "kernelspec": {
   "display_name": "iccs-205-numerical-computation-QOrFbCh5-py3.12",
   "language": "python",
   "name": "python3"
  },
  "language_info": {
   "codemirror_mode": {
    "name": "ipython",
    "version": 3
   },
   "file_extension": ".py",
   "mimetype": "text/x-python",
   "name": "python",
   "nbconvert_exporter": "python",
   "pygments_lexer": "ipython3",
   "version": "3.12.11"
  },
  "toc": {
   "colors": {
    "hover_highlight": "#DAA520",
    "running_highlight": "#FF0000",
    "selected_highlight": "#FFD700"
   },
   "moveMenuLeft": true,
   "nav_menu": {
    "height": "84px",
    "width": "252px"
   },
   "navigate_menu": true,
   "number_sections": true,
   "sideBar": true,
   "threshold": 4,
   "toc_cell": false,
   "toc_section_display": "block",
   "toc_window_display": true
  }
 },
 "nbformat": 4,
 "nbformat_minor": 1
}
