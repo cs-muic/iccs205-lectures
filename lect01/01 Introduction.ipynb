{
 "cells": [
  {
   "cell_type": "markdown",
   "metadata": {},
   "source": [
    "# Introduction to ICCS205 Numerical Computation\n",
    "\n",
    "Welcome to the ICCS205 Numerical Computation course! In this course, you will learn fundamental techniques for solving mathematical problems using computational approaches.\n",
    "\n",
    "## Course Information\n",
    "- **Course Code**: ICCS205 - Numerical Computation\n",
    "- **Course Code**: ICMA338 - Numerical Methods\n",
    "- **Course Code**: ICPY334 - Numerical Methods in Physics\n",
    "\n",
    "## Topics Covered\n",
    "- Root Finding\n",
    "- Taylor’s Theorem and Derivatives\n",
    "- Lagrange Interpolation\n",
    "- Numerical Integration\n",
    "- Systems of Linear Equations\n",
    "- Linear Regression\n",
    "- Gradient Descent\n",
    "- Systems of Nonlinear Equations\n",
    "- Monte Carlo Methods\n",
    "- Hill Climbing\n",
    "- Hough Transform\n",
    "- Linear Optimization\n",
    "\n",
    "Throughout the course, you will apply these methods to practical problems and gain hands-on experience with computational tools.\n",
    "\n",
    "## Prerequisites\n",
    "- Python programming skills\n",
    "- Calculus\n",
    "\n"
   ]
  },
  {
   "cell_type": "code",
   "execution_count": 1,
   "metadata": {},
   "outputs": [
    {
     "data": {
      "text/plain": [
       "2"
      ]
     },
     "execution_count": 1,
     "metadata": {},
     "output_type": "execute_result"
    }
   ],
   "source": [
    "1 + 1"
   ]
  }
 ],
 "metadata": {
  "hide_input": false,
  "kernelspec": {
   "display_name": "Python 3 (ipykernel)",
   "language": "python",
   "name": "python3"
  },
  "language_info": {
   "codemirror_mode": {
    "name": "ipython",
    "version": 3
   },
   "file_extension": ".py",
   "mimetype": "text/x-python",
   "name": "python",
   "nbconvert_exporter": "python",
   "pygments_lexer": "ipython3",
   "version": "3.12.11"
  },
  "toc": {
   "colors": {
    "hover_highlight": "#DAA520",
    "running_highlight": "#FF0000",
    "selected_highlight": "#FFD700"
   },
   "moveMenuLeft": true,
   "nav_menu": {
    "height": "84px",
    "width": "252px"
   },
   "navigate_menu": true,
   "number_sections": true,
   "sideBar": true,
   "threshold": 4,
   "toc_cell": false,
   "toc_section_display": "block",
   "toc_window_display": true
  }
 },
 "nbformat": 4,
 "nbformat_minor": 4
}
