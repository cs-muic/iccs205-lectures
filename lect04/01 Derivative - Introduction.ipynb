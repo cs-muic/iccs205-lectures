{
  "cells": [
    {
      "cell_type": "markdown",
      "metadata": {
        "id": "IUndo5hwaKIz"
      },
      "source": [
        "# Numerical Derivative\n",
        "\n",
        "## What is a Numerical Derivative?\n",
        "\n",
        "A **numerical derivative** is an approximation of the derivative of a function using discrete data points rather than analytical calculus. While analytical derivatives give us exact mathematical expressions, numerical derivatives allow us to:\n",
        "\n",
        "- **Estimate derivatives when we only have data points** (not a mathematical formula)\n",
        "- **Compute derivatives of complex functions** that are difficult to differentiate analytically\n",
        "- **Handle experimental or measured data** where we don't have an underlying equation\n",
        "- **Implement derivatives in computer programs** for numerical methods and simulations\n",
        "\n",
        "## Why Do We Need Numerical Derivatives?\n",
        "\n",
        "In many real-world scenarios, we encounter situations where analytical differentiation is not practical or possible:\n",
        "\n",
        "1. **Experimental Data**: When analyzing experimental measurements, we often only have discrete data points\n",
        "2. **Complex Functions**: Some functions are too complicated to differentiate by hand\n",
        "3. **Black Box Functions**: Sometimes we can evaluate a function but don't know its analytical form\n",
        "4. **Computational Efficiency**: In some cases, numerical approximation can be faster than computing complex analytical derivatives\n",
        "\n",
        "## The Basic Idea\n",
        "\n",
        "The fundamental concept behind numerical derivatives comes from the **definition of a derivative**. Instead of taking the limit as h approaches zero, we use a small but finite value of h to approximate the derivative:\n",
        "\n",
        "$$\\text{Analytical: } f'(x) = \\lim_{h \\to 0} \\frac{f(x+h) - f(x)}{h}$$\n",
        "\n",
        "$$\\text{Numerical: } f'(x) \\approx \\frac{f(x+h) - f(x)}{h} \\text{ for small } h$$\n",
        "\n",
        "## Trade-offs and Considerations\n",
        "\n",
        "- **Accuracy vs. Step Size**: Smaller h generally gives better approximation, but too small h can lead to numerical errors\n",
        "- **Computational Cost**: More accurate methods require more function evaluations\n",
        "- **Stability**: Some methods are more robust to numerical errors than others\n",
        "\n",
        "## Topic Coverage:\n",
        "- Forward Difference\n",
        "- Central Difference\n",
        "- Higher-Order Methods - Five-Point Stencil\n",
        "- Comparison of Methods\n",
        "- Applications\n"
      ]
    },
    {
      "cell_type": "markdown",
      "metadata": {},
      "source": []
    }
  ],
  "metadata": {
    "colab": {
      "provenance": []
    },
    "hide_input": false,
    "kernelspec": {
      "display_name": "iccs-205-numerical-computation-QOrFbCh5-py3.12",
      "language": "python",
      "name": "python3"
    },
    "language_info": {
      "codemirror_mode": {
        "name": "ipython",
        "version": 3
      },
      "file_extension": ".py",
      "mimetype": "text/x-python",
      "name": "python",
      "nbconvert_exporter": "python",
      "pygments_lexer": "ipython3",
      "version": "3.12.11"
    },
    "toc": {
      "colors": {
        "hover_highlight": "#DAA520",
        "running_highlight": "#FF0000",
        "selected_highlight": "#FFD700"
      },
      "moveMenuLeft": true,
      "nav_menu": {
        "height": "84px",
        "width": "252px"
      },
      "navigate_menu": true,
      "number_sections": false,
      "sideBar": true,
      "threshold": 4,
      "toc_cell": false,
      "toc_section_display": "block",
      "toc_window_display": false
    }
  },
  "nbformat": 4,
  "nbformat_minor": 0
}
