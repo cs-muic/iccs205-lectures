{
  "cells": [
    {
      "cell_type": "markdown",
      "metadata": {},
      "source": [
        "# An Introduction to the Taylor Series\n",
        "\n",
        "The **Taylor series** is a foundational concept in calculus that allows us to represent a complex function as an infinite sum of simpler polynomial terms. In essence, it's a way to approximate any \"well-behaved\" function with a polynomial that's much easier to work with.\n",
        "\n",
        "---"
      ]
    },
    {
      "cell_type": "markdown",
      "metadata": {},
      "source": [
        "\n",
        "## The Core Idea: Approximating with Polynomials\n",
        "\n",
        "Imagine you have a complicated, curvy function like $\\sin(x)$ or $e^x$. Calculating values for these functions directly can be difficult. The goal of the Taylor series is to create a polynomial that \"mimics\" the original function around a specific point.\n",
        "\n",
        "A **polynomial function** is one made of simple terms with non-negative integer powers of $x$, like this:\n",
        "\n",
        "$$P(x) = c_0 + c_1x + c_2x^2 + c_3x^3 + \\dots$$\n",
        "\n",
        "The Taylor series provides a specific method to find the coefficients ($c_0, c_1, c_2, \\dots$) that make this polynomial the best possible approximation of a more complex function, $f(x)$, near a chosen point.\n",
        "\n",
        "Why do we use polynomials? Because they are incredibly easy to handle. We can easily:\n",
        "* **Calculate** their value (only using addition and multiplication).\n",
        "* **Differentiate** them.\n",
        "* **Integrate** them.\n",
        "\n",
        "The core idea is to match the function's value, slope (first derivative), curvature (second derivative), and so on, at a chosen point. The more derivatives we match, the better our polynomial approximation becomes near that point.\n",
        "\n",
        "---\n"
      ]
    },
    {
      "cell_type": "markdown",
      "metadata": {},
      "source": [
        "\n",
        "## Building the Taylor Series\n",
        "\n",
        "The Taylor series of a function $f(x)$ that is infinitely differentiable at a point $a$ is given by the formula:\n",
        "\n",
        "$$f(x) = \\sum_{n=0}^{\\infty} \\frac{f^{(n)}(a)}{n!} (x-a)^n$$\n",
        "\n",
        "Let's break that down into its expanded form:\n",
        "* $f(x) = f(a) + \\frac{f'(a)}{1!}(x-a) + \\frac{f''(a)}{2!}(x-a)^2 + \\frac{f'''(a)}{3!}(x-a)^3 + \\dots$\n",
        "\n",
        "Where:\n",
        "* $f^{(n)}(a)$ is the $n$-th derivative of the function evaluated at $a$.\n",
        "* $n!$ is the factorial of $n$.\n",
        "* The point **a** is called the **center** or **point of expansion**. The approximation is most accurate near this point.\n",
        "\n",
        "---\n"
      ]
    },
    {
      "cell_type": "markdown",
      "metadata": {},
      "source": [
        "\n",
        "## How Are the Coefficients Found? (The Derivation)\n",
        "\n",
        "Where does the term $\\frac{f^{(n)}(a)}{n!}$ come from? We can find it by assuming our function $f(x)$ can be written as a generic power series and then solving for the coefficients.\n",
        "\n",
        "Let's assume:\n",
        "$$f(x) = c_0 + c_1(x-a) + c_2(x-a)^2 + c_3(x-a)^3 + \\dots$$\n",
        "\n",
        "Our goal is to find the values of $c_0, c_1, c_2,$ etc.\n",
        "\n",
        "1.  **Find $c_0$**: To isolate $c_0$, we can just evaluate the function at $x = a$. Every term with $(x-a)$ becomes zero.\n",
        "    $$f(a) = c_0 + 0 + 0 + \\dots \\quad \\Rightarrow \\quad \\mathbf{c_0 = f(a)}$$\n",
        "\n",
        "2.  **Find $c_1$**: First, let's differentiate the entire series with respect to $x$:\n",
        "    $$f'(x) = c_1 + 2c_2(x-a) + 3c_3(x-a)^2 + \\dots$$\n",
        "    Now, evaluate this derivative at $x = a$:\n",
        "    $$f'(a) = c_1 + 0 + 0 + \\dots \\quad \\Rightarrow \\quad \\mathbf{c_1 = f'(a)}$$\n",
        "\n",
        "3.  **Find $c_2$**: Let's differentiate again:\n",
        "    $$f''(x) = 2c_2 + (3 \\cdot 2)c_3(x-a) + \\dots$$\n",
        "    Evaluating at $x=a$:\n",
        "    $$f''(a) = 2c_2 + 0 + \\dots \\quad \\Rightarrow \\quad \\mathbf{c_2 = \\frac{f''(a)}{2}}$$\n",
        "\n",
        "4.  **Find $c_3$**: Differentiate a third time:\n",
        "    $$f'''(x) = (3 \\cdot 2 \\cdot 1)c_3 + \\dots$$\n",
        "    Evaluating at $x=a$:\n",
        "    $$f'''(a) = (3 \\cdot 2 \\cdot 1)c_3 = 3!c_3 \\quad \\Rightarrow \\quad \\mathbf{c_3 = \\frac{f'''(a)}{3!}}$$\n",
        "\n",
        "**The General Pattern**\n",
        "If you continue this process, you'll see a pattern emerge. After differentiating $n$ times and evaluating at $x=a$, you get:\n",
        "$$f^{(n)}(a) = n! \\cdot c_n$$Solving for $c_n$ gives us the general formula for any coefficient in the Taylor series:$$\\mathbf{c_n = \\frac{f^{(n)}(a)}{n!}}$$\n",
        "\n",
        "---\n"
      ]
    },
    {
      "cell_type": "markdown",
      "metadata": {},
      "source": [
        "\n",
        "## Maclaurin Series: A Special Case\n",
        "\n",
        "A **Maclaurin series** is simply a Taylor series centered at the specific point $a = 0$. This is a very common and useful case. The formula simplifies to:\n",
        "\n",
        "$$f(x) = \\sum_{n=0}^{\\infty} \\frac{f^{(n)}(0)}{n!} x^n = f(0) + f'(0)x + \\frac{f''(0)}{2!}x^2 + \\dots$$\n",
        "\n",
        "**Classic Example: $e^x$**\n",
        "The Maclaurin series for $f(x) = e^x$ is one of the most famous examples. Since the derivative of $e^x$ is always $e^x$, and $e^0 = 1$, all derivatives at $a=0$ are 1.\n",
        "\n",
        "$$e^x = 1 + x + \\frac{x^2}{2!} + \\frac{x^3}{3!} + \\frac{x^4}{4!} + \\dots$$\n",
        "\n",
        "---"
      ]
    },
    {
      "cell_type": "markdown",
      "metadata": {},
      "source": [
        "\n",
        "## Why Is This So Important?\n",
        "\n",
        "Taylor series are a cornerstone of mathematics, physics, and engineering for several reasons:\n",
        "\n",
        "* **Function Approximation:** They allow calculators and computers to compute values for functions like $\\sin(x)$, $\\cos(x)$, and $\\ln(x)$ using simple arithmetic.\n",
        "* **Solving Differential Equations:** They can provide approximate solutions to complex differential equations that don't have simple closed-form solutions.\n",
        "* **Simplifying Problems:** In physics, approximations like $\\sin(\\theta) \\approx \\theta$ for small angles are derived from the first term of the Taylor series.\n",
        "* **Understanding Function Behavior:** The series can reveal the local behavior of a function around a point."
      ]
    },
    {
      "cell_type": "markdown",
      "metadata": {},
      "source": []
    }
  ],
  "metadata": {
    "colab": {
      "provenance": []
    },
    "hide_input": false,
    "kernelspec": {
      "display_name": "iccs-205-numerical-computation-QOrFbCh5-py3.12",
      "language": "python",
      "name": "python3"
    },
    "language_info": {
      "codemirror_mode": {
        "name": "ipython",
        "version": 3
      },
      "file_extension": ".py",
      "mimetype": "text/x-python",
      "name": "python",
      "nbconvert_exporter": "python",
      "pygments_lexer": "ipython3",
      "version": "3.12.11"
    },
    "toc": {
      "colors": {
        "hover_highlight": "#DAA520",
        "running_highlight": "#FF0000",
        "selected_highlight": "#FFD700"
      },
      "moveMenuLeft": true,
      "nav_menu": {
        "height": "84px",
        "width": "252px"
      },
      "navigate_menu": true,
      "number_sections": false,
      "sideBar": true,
      "threshold": 4,
      "toc_cell": false,
      "toc_section_display": "block",
      "toc_window_display": false
    }
  },
  "nbformat": 4,
  "nbformat_minor": 0
}
