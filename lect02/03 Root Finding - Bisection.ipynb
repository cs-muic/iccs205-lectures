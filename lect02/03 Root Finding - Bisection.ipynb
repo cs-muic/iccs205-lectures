{
 "cells": [
  {
   "cell_type": "markdown",
   "metadata": {},
   "source": [
    "### The Bisection Method: A Simple & Robust Root-Finding Algorithm\n",
    "\n",
    "### The Core Idea: The Intermediate Value Theorem\n",
    "\n",
    "The bisection method is beautifully simple because it relies on a very intuitive mathematical guarantee: the **Intermediate Value Theorem (IVT)**.\n",
    "\n",
    "The IVT states that if you have a continuous function $f(x)$ on an interval $[a, b]$, and the values $f(a)$ and $f(b)$ have **opposite signs**, then there must be at least one point $c$ between $a$ and $b$ where $f(c) = 0$.\n",
    "\n",
    "Think about it: if you have to draw a continuous line from a point below the x-axis to a point above it, you *must* cross the x-axis somewhere. That crossing point is our root. The bisection method's entire strategy is to systematically narrow down the location of that crossing point.\n",
    "\n",
    "Mathematically, the condition is that $f(a) \\cdot f(b) < 0$.\n",
    "\n",
    "-----\n"
   ]
  },
  {
   "cell_type": "markdown",
   "metadata": {},
   "source": [
    "\n",
    "### The Algorithm: Halve and Conquer\n",
    "\n",
    "The bisection method is a \"divide and conquer\" algorithm. It works just like looking up a name in a phone book or a word in a dictionary.\n",
    "\n",
    "Here are the steps:\n",
    "\n",
    "1.  **Bracket the Root:** Choose a starting interval $[a, b]$ where you know a root exists. You verify this by checking that $f(a)$ and $f(b)$ have opposite signs.\n",
    "2.  **Find the Midpoint:** Calculate the middle of the interval, which we'll call $m$.\n",
    "    $$m = \\frac{a+b}{2}$$\n",
    "3.  **Evaluate:** Calculate the value of the function at the midpoint, $f(m)$.\n",
    "4.  **Update the Interval:** Now, we have three possibilities:\n",
    "      * If $f(m) = 0$, you've found the root\\! (This is rare in practice).\n",
    "      * If $f(m)$ has the same sign as $f(a)$, it means the root must be in the *other* half of the interval. So, we discard the first half by setting our new interval to $[m, b]$.\n",
    "      * If $f(m)$ has the same sign as $f(b)$, the root must be in the *first* half. We discard the second half by setting our new interval to $[a, m]$.\n",
    "5.  **Repeat:** Go back to step 2 with your new, smaller interval. We repeat this process until the interval $[a, b]$ becomes smaller than some predefined tolerance, $\\\\epsilon$. At that point, the midpoint is a very good approximation of the root.\n",
    "\n",
    "Each iteration **halves** the size of the interval where the root could be, guaranteeing that we will eventually converge on the answer.\n",
    "\n",
    "-----\n",
    "\n"
   ]
  },
  {
   "cell_type": "markdown",
   "metadata": {},
   "source": [
    "### Pros and Cons\n",
    "\n",
    "#### Advantages\n",
    "\n",
    "  * **Robustness:** The bisection method is **guaranteed to converge** to a root if the initial interval is chosen correctly. It will never diverge or fail.\n",
    "  * **Simplicity:** The algorithm is very easy to understand and implement.\n",
    "  * **Predictable:** You can calculate in advance exactly how many iterations it will take to reach a desired tolerance.\n",
    "\n",
    "#### Disadvantages\n",
    "\n",
    "  * **Slow Convergence:** The method converges **linearly**, which is considered slow. Each iteration only reduces the error by a factor of two. Other methods, like Newton-Raphson, can converge much faster (quadratically), but they are not guaranteed to work.\n",
    "  * **Requires a Bracket:** You must find an initial interval $[a, b]$ where $f(a)$ and $f(b)$ have opposite signs. For some functions, finding this bracket can be a challenge in itself.\n",
    "\n",
    "In summary, the bisection method is a reliable workhorse. While it may not be the fastest, its simplicity and guaranteed convergence make it an excellent tool to have in your numerical methods toolbox.\n",
    "\n",
    "-----"
   ]
  },
  {
   "cell_type": "markdown",
   "metadata": {},
   "source": [
    "### Example & Python Implementation\n",
    "\n",
    "Let's find the root of the function $f(x) = x^3 - x - 2$ using Python.\n",
    "\n",
    "First, we need to find an initial bracket.\n",
    "\n",
    "  * Let's try $a=1$: $f(1) = 1^3 - 1 - 2 = -2$\n",
    "  * Let's try $b=2$: $f(2) = 2^3 - 2 - 2 = 4$\n",
    "\n",
    "Since $f(1)$ is negative and $f(2)$ is positive, we know a root exists somewhere in the interval $[1, 2]$.\n",
    "\n",
    "Here's the Python code that implements the bisection algorithm and then visualizes the result. We'll use `numpy` for efficient calculations and `matplotlib` for plotting.\n"
   ]
  },
  {
   "cell_type": "code",
   "execution_count": 3,
   "metadata": {
    "collapsed": true
   },
   "outputs": [],
   "source": [
    "#load all the necessary libraries\n",
    "%matplotlib inline\n",
    "import numpy as np\n",
    "from matplotlib import pyplot as plt"
   ]
  },
  {
   "cell_type": "code",
   "execution_count": 4,
   "metadata": {},
   "outputs": [],
   "source": [
    "\n",
    "def bisection_method(f, a, b, tol=1e-6, max_iter=100):\n",
    "    \"\"\"\n",
    "    Finds a root of the function f within the interval [a, b]\n",
    "    using the bisection method.\n",
    "\n",
    "    Args:\n",
    "        f (function): The function for which to find a root.\n",
    "        a (float): The start of the interval.\n",
    "        b (float): The end of the interval.\n",
    "        tol (float): The tolerance for the stopping condition.\n",
    "        max_iter (int): The maximum number of iterations.\n",
    "\n",
    "    Returns:\n",
    "        float: The approximate root, or None if the method fails.\n",
    "    \"\"\"\n",
    "    # Check if a root is guaranteed to exist in the interval\n",
    "    if f(a) * f(b) >= 0:\n",
    "        print(\"Bisection method fails: f(a) and f(b) must have opposite signs.\")\n",
    "        return None\n",
    "\n",
    "    iteration = 0\n",
    "    while (b - a) / 2.0 > tol and iteration < max_iter:\n",
    "        # Calculate the midpoint\n",
    "        m = (a + b) / 2.0\n",
    "        \n",
    "        # Print the current state for demonstration\n",
    "        print(f\"Iter {iteration+1:2d}: a={a:.6f}, b={b:.6f}, m={m:.6f}, f(m)={f(m):.6f}\")\n",
    "\n",
    "        # Update the interval\n",
    "        if f(m) == 0:\n",
    "            # Found the exact root\n",
    "            return m\n",
    "        elif f(a) * f(m) < 0:\n",
    "            # Root is in the left half\n",
    "            b = m\n",
    "        else:\n",
    "            # Root is in the right half\n",
    "            a = m\n",
    "        \n",
    "        iteration += 1\n",
    "\n",
    "    # Return the midpoint of the final interval as the approximation\n",
    "    return (a + b) / 2.0\n"
   ]
  },
  {
   "cell_type": "code",
   "execution_count": 6,
   "metadata": {},
   "outputs": [],
   "source": [
    "\n",
    "# --- Let's run the example ---\n",
    "\n",
    "# 1. Define our function\n",
    "def my_function(x):\n",
    "    return x**3 - x - 2\n"
   ]
  },
  {
   "cell_type": "code",
   "execution_count": 7,
   "metadata": {},
   "outputs": [],
   "source": [
    "\n",
    "# 2. Set the initial interval and tolerance\n",
    "a_start = 1.0\n",
    "b_start = 2.0\n",
    "tolerance = 1e-7\n"
   ]
  },
  {
   "cell_type": "code",
   "execution_count": 8,
   "metadata": {},
   "outputs": [
    {
     "name": "stdout",
     "output_type": "stream",
     "text": [
      "Iter  1: a=1.000000, b=2.000000, m=1.500000, f(m)=-0.125000\n",
      "Iter  2: a=1.500000, b=2.000000, m=1.750000, f(m)=1.609375\n",
      "Iter  3: a=1.500000, b=1.750000, m=1.625000, f(m)=0.666016\n",
      "Iter  4: a=1.500000, b=1.625000, m=1.562500, f(m)=0.252197\n",
      "Iter  5: a=1.500000, b=1.562500, m=1.531250, f(m)=0.059113\n",
      "Iter  6: a=1.500000, b=1.531250, m=1.515625, f(m)=-0.034054\n",
      "Iter  7: a=1.515625, b=1.531250, m=1.523438, f(m)=0.012250\n",
      "Iter  8: a=1.515625, b=1.523438, m=1.519531, f(m)=-0.010971\n",
      "Iter  9: a=1.519531, b=1.523438, m=1.521484, f(m)=0.000622\n",
      "Iter 10: a=1.519531, b=1.521484, m=1.520508, f(m)=-0.005179\n",
      "Iter 11: a=1.520508, b=1.521484, m=1.520996, f(m)=-0.002279\n",
      "Iter 12: a=1.520996, b=1.521484, m=1.521240, f(m)=-0.000829\n",
      "Iter 13: a=1.521240, b=1.521484, m=1.521362, f(m)=-0.000103\n",
      "Iter 14: a=1.521362, b=1.521484, m=1.521423, f(m)=0.000259\n",
      "Iter 15: a=1.521362, b=1.521423, m=1.521393, f(m)=0.000078\n",
      "Iter 16: a=1.521362, b=1.521393, m=1.521378, f(m)=-0.000013\n",
      "Iter 17: a=1.521378, b=1.521393, m=1.521385, f(m)=0.000033\n",
      "Iter 18: a=1.521378, b=1.521385, m=1.521381, f(m)=0.000010\n",
      "Iter 19: a=1.521378, b=1.521381, m=1.521379, f(m)=-0.000001\n",
      "Iter 20: a=1.521379, b=1.521381, m=1.521380, f(m)=0.000004\n",
      "Iter 21: a=1.521379, b=1.521380, m=1.521380, f(m)=0.000001\n",
      "Iter 22: a=1.521379, b=1.521380, m=1.521380, f(m)=0.000000\n",
      "Iter 23: a=1.521379, b=1.521380, m=1.521380, f(m)=-0.000001\n"
     ]
    }
   ],
   "source": [
    "\n",
    "# 3. Call the bisection method\n",
    "root = bisection_method(my_function, a_start, b_start, tol=tolerance)\n"
   ]
  },
  {
   "cell_type": "code",
   "execution_count": 9,
   "metadata": {},
   "outputs": [
    {
     "name": "stdout",
     "output_type": "stream",
     "text": [
      "\n",
      "Found root at: x = 1.5213796\n",
      "   Value of f(x) at root: f(1.5213796) = -0.0000003\n"
     ]
    },
    {
     "data": {
      "image/png": "[encoded data removed]",
      "text/plain": [
       "<Figure size 640x480 with 1 Axes>"
      ]
     },
     "metadata": {},
     "output_type": "display_data"
    }
   ],
   "source": [
    "\n",
    "print(f\"\\nFound root at: x = {root:.7f}\")\n",
    "print(f\"   Value of f(x) at root: f({root:.7f}) = {my_function(root):.7f}\")\n",
    "\n",
    "# 4. Plot the function and the root\n",
    "plt.style.use('seaborn-v0_8-whitegrid')\n",
    "fig, ax = plt.subplots()\n",
    "\n",
    "x_vals = np.linspace(0, 3, 400)\n",
    "y_vals = my_function(x_vals)\n",
    "\n",
    "ax.plot(x_vals, y_vals, label='$f(x) = x^3 - x - 2$', lw=2)\n",
    "ax.axhline(0, color='black', linestyle='--', lw=1) # The x-axis\n",
    "\n",
    "# Highlight the initial interval\n",
    "ax.axvspan(a_start, b_start, alpha=0.2, color='orange', label=f'Initial Interval [{a_start}, {b_start}]')\n",
    "\n",
    "# Mark the found root\n",
    "ax.plot(root, my_function(root), 'ro', markersize=8, label=f'Found Root ≈ {root:.4f}')\n",
    "\n",
    "ax.set_title(\"Bisection Method Root Finding\")\n",
    "ax.set_xlabel(\"x\")\n",
    "ax.set_ylabel(\"f(x)\")\n",
    "ax.legend()\n",
    "ax.set_ylim(-4, 6)\n",
    "ax.set_xlim(0, 3)\n",
    "\n",
    "plt.show()"
   ]
  },
  {
   "cell_type": "markdown",
   "metadata": {},
   "source": [
    "-----\n",
    "\n",
    "### Exercise 1: Find root for $x = 5 \\cos(x)$ using Bisection Method\n",
    "\n",
    "Implement the bisection method to find the root of the equation $x = 5 \\cos(x)$. Answer the following questions:\n",
    "\n",
    "- What is your function $f(x)$ to be used in bisection method?\n",
    "- What is/are your initial brackets? How did you choose it?\n",
    "- What is your tolerance?\n",
    "- What is/are your roots? How many roots are there?\n",
    "- What is your accuracy?\n",
    "- What is the difference between accuracy and tolerance?\n",
    "- How many iterations did it take to converge?"
   ]
  },
  {
   "cell_type": "code",
   "execution_count": null,
   "metadata": {
    "collapsed": true
   },
   "outputs": [],
   "source": []
  },
  {
   "cell_type": "markdown",
   "metadata": {},
   "source": [
    "-----\n",
    "\n",
    "### Exercise 2: Does the bisection method work for $f(x) = x^2$? \n",
    "\n",
    "Why or why not? Explain. If it works, try to find the root using this method.\n"
   ]
  },
  {
   "cell_type": "markdown",
   "metadata": {},
   "source": []
  }
 ],
 "metadata": {
  "hide_input": false,
  "kernelspec": {
   "display_name": "iccs-205-numerical-computation-QOrFbCh5-py3.12",
   "language": "python",
   "name": "python3"
  },
  "language_info": {
   "codemirror_mode": {
    "name": "ipython",
    "version": 3
   },
   "file_extension": ".py",
   "mimetype": "text/x-python",
   "name": "python",
   "nbconvert_exporter": "python",
   "pygments_lexer": "ipython3",
   "version": "3.12.11"
  },
  "toc": {
   "colors": {
    "hover_highlight": "#DAA520",
    "running_highlight": "#FF0000",
    "selected_highlight": "#FFD700"
   },
   "moveMenuLeft": true,
   "nav_menu": {
    "height": "84px",
    "width": "252px"
   },
   "navigate_menu": true,
   "number_sections": true,
   "sideBar": true,
   "threshold": 4,
   "toc_cell": false,
   "toc_section_display": "block",
   "toc_window_display": true
  }
 },
 "nbformat": 4,
 "nbformat_minor": 1
}
