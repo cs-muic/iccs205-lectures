{
 "cells": [
  {
   "cell_type": "markdown",
   "metadata": {},
   "source": [
    "## Python Recap for Jupyter Notebooks\n",
    "\n",
    "Welcome back\\! This notebook is a quick refresher on the fundamental concepts of Python. The goal is to get you comfortable with the core syntax and data structures you'll be using throughout this course. Remember, you can run each code cell by selecting it and pressing **Shift + Enter**.\n",
    "\n",
    "-----\n",
    "\n",
    "### 1\\. Variables and Basic Data Types\n",
    "\n",
    "A **variable** is like a labeled box where you can store information. Python has several built-in data types.\n",
    "\n",
    "  * **Integers (`int`)**: Whole numbers, like `10`, `-5`, `0`.\n",
    "  * **Floats (`float`)**: Numbers with a decimal point, like `3.14`, `-0.001`.\n",
    "  * **Strings (`str`)**: Text, enclosed in single (`'...'`) or double (`\"...\"`) quotes.\n",
    "  * **Booleans (`bool`)**: Can only be `True` or `False`.\n",
    "\n",
    "<!-- end list -->\n",
    "\n",
    "```python\n",
    "# Assigning variables\n",
    "course_name = \"Data Science with Python\" # String\n",
    "student_count = 25                     # Integer\n",
    "passing_grade = 75.5                   # Float\n",
    "is_online = True                       # Boolean\n",
    "\n",
    "# You can print them to see their values\n",
    "print(course_name)\n",
    "print(student_count)\n",
    "\n",
    "# Use the type() function to check a variable's data type\n",
    "print(type(is_online))\n",
    "```\n",
    "\n",
    "-----\n",
    "\n",
    "### 2\\. Basic Operators\n",
    "\n",
    "Python supports standard operators for performing calculations and comparisons.\n",
    "\n",
    "  * **Arithmetic**: `+` (addition), `-` (subtraction), `*` (multiplication), `/` (division), `**` (exponent).\n",
    "  * **Comparison**: `==` (equal to), `!=` (not equal to), `>` (greater than), `<` (less than). These always return a boolean (`True` or `False`).\n",
    "\n",
    "<!-- end list -->\n",
    "\n",
    "```python\n",
    "# Arithmetic\n",
    "a = 15\n",
    "b = 4\n",
    "\n",
    "print(f\"Sum: {a + b}\")\n",
    "print(f\"Division: {a / b}\") # Division always results in a float\n",
    "print(f\"Exponent: {b ** 2}\") # b squared\n",
    "\n",
    "# Comparison\n",
    "print(f\"Is a equal to b? {a == b}\")\n",
    "print(f\"Is a greater than 10? {a > 10}\")\n",
    "```\n",
    "\n",
    "-----\n",
    "\n",
    "### 3\\. Core Data Structures\n",
    "\n",
    "These are essential for storing collections of data.\n",
    "\n",
    "#### Lists\n",
    "\n",
    "A **list** is an ordered, changeable collection of items. It's defined with square brackets `[]`.\n",
    "\n",
    "```python\n",
    "# Creating a list of prime numbers\n",
    "primes = [2, 3, 5, 7, 11]\n",
    "print(f\"Original list: {primes}\")\n",
    "\n",
    "# Accessing elements (indexing starts at 0)\n",
    "print(f\"The first prime is: {primes[0]}\")\n",
    "print(f\"The last prime is: {primes[-1]}\")\n",
    "\n",
    "# Adding an element to the end\n",
    "primes.append(13)\n",
    "print(f\"List after appending 13: {primes}\")\n",
    "\n",
    "# Slicing to get a sub-list [start:stop]\n",
    "# The 'stop' index is not included\n",
    "first_three = primes[0:3]\n",
    "print(f\"The first three primes are: {first_three}\")\n",
    "```\n",
    "\n",
    "#### Dictionaries\n",
    "\n",
    "A **dictionary** is an unordered collection of `key: value` pairs. It's defined with curly braces `{}`. Keys must be unique and are used to access their corresponding values.\n",
    "\n",
    "```python\n",
    "# Creating a dictionary to store student info\n",
    "student = {\n",
    "    \"name\": \"Alex\",\n",
    "    \"id\": 12345,\n",
    "    \"major\": \"Computer Science\",\n",
    "    \"gpa\": 3.7\n",
    "}\n",
    "\n",
    "# Accessing a value using its key\n",
    "print(f\"Student's name: {student['name']}\")\n",
    "\n",
    "# Adding a new key-value pair\n",
    "student[\"year\"] = \"Junior\"\n",
    "print(f\"Updated student info: {student}\")\n",
    "```\n",
    "\n",
    "-----\n",
    "\n",
    "### 4\\. Control Flow\n",
    "\n",
    "Control flow structures allow you to execute code conditionally or repeatedly.\n",
    "\n",
    "#### Conditional Statements (`if/elif/else`)\n",
    "\n",
    "Used to run different blocks of code based on whether a condition is `True` or `False`.\n",
    "\n",
    "```python\n",
    "grade = 85\n",
    "\n",
    "if grade >= 90:\n",
    "    print(\"Excellent! You got an A.\")\n",
    "elif grade >= 80:\n",
    "    print(\"Good job! You got a B.\")\n",
    "else:\n",
    "    print(\"Keep working hard!\")\n",
    "```\n",
    "\n",
    "#### Loops (`for` and `while`)\n",
    "\n",
    "  * **`for` loop**: Iterates over a sequence (like a list or a range).\n",
    "  * **`while` loop**: Repeats as long as a condition is true.\n",
    "\n",
    "<!-- end list -->\n",
    "\n",
    "```python\n",
    "# A 'for' loop to print each item in a list\n",
    "fruits = [\"apple\", \"banana\", \"cherry\"]\n",
    "for fruit in fruits:\n",
    "    print(f\"I like {fruit}s.\")\n",
    "\n",
    "print(\"---\") # Separator\n",
    "\n",
    "# A 'while' loop that counts down\n",
    "count = 3\n",
    "while count > 0:\n",
    "    print(f\"Countdown: {count}\")\n",
    "    count = count - 1 # or count -= 1\n",
    "print(\"Blast off! 🚀\")\n",
    "```\n",
    "\n",
    "-----\n",
    "\n",
    "### 5\\. Functions\n",
    "\n",
    "A **function** is a reusable block of code that performs a specific task. You define it using the `def` keyword. This helps keep your code organized and avoids repetition.\n",
    "\n",
    "```python\n",
    "def greet(name):\n",
    "    \"\"\"\n",
    "    This is a docstring. It explains what the function does.\n",
    "    It takes a name as input and returns a greeting string.\n",
    "    \"\"\"\n",
    "    return f\"Hello, {name}! Welcome to the course.\"\n",
    "\n",
    "# Calling the function and storing its result in a variable\n",
    "greeting_message = greet(\"Maria\")\n",
    "print(greeting_message)\n",
    "\n",
    "print(greet(\"Chen\")) # You can also print the result directly\n",
    "```\n",
    "\n",
    "You are now ready to tackle the main content of the course. Happy coding\\!"
   ]
  },
  {
   "cell_type": "markdown",
   "metadata": {},
   "source": [
    "# Important\n",
    "To Execute a cell. Press Shift+Enter or Ctrl+Enter"
   ]
  },
  {
   "cell_type": "code",
   "execution_count": 1,
   "metadata": {
    "collapsed": true
   },
   "outputs": [],
   "source": [
    "#load all the necessary libraries\n",
    "%matplotlib inline\n",
    "from matplotlib import pyplot as plt\n",
    "import numpy as np\n",
    "import math"
   ]
  },
  {
   "cell_type": "markdown",
   "metadata": {},
   "source": [
    "# Python Recap"
   ]
  },
  {
   "cell_type": "markdown",
   "metadata": {},
   "source": [
    "## Printing"
   ]
  },
  {
   "cell_type": "code",
   "execution_count": null,
   "metadata": {},
   "outputs": [
    {
     "name": "stdout",
     "output_type": "stream",
     "text": [
      "3\n"
     ]
    }
   ],
   "source": [
    "# here is how you print something\n",
    "a = 1\n",
    "b = 2\n",
    "c = a + b\n",
    "print(c)\n",
    "\n",
    "#if you want to show line number View --> Toggle Line Number"
   ]
  },
  {
   "cell_type": "markdown",
   "metadata": {},
   "source": [
    "## Conditional Statement"
   ]
  },
  {
   "cell_type": "code",
   "execution_count": 19,
   "metadata": {},
   "outputs": [
    {
     "name": "stdout",
     "output_type": "stream",
     "text": [
      "3 is less than five\n"
     ]
    }
   ],
   "source": [
    "#conditional statement\n",
    "x = 3\n",
    "if x<5:\n",
    "    print (x, 'is less than five')\n",
    "else:\n",
    "    print (x, 'is not less than five')"
   ]
  },
  {
   "cell_type": "markdown",
   "metadata": {},
   "source": [
    "## Define a function"
   ]
  },
  {
   "cell_type": "code",
   "execution_count": null,
   "metadata": {},
   "outputs": [],
   "source": [
    "#define a function\n",
    "def f(x):\n",
    "    a = 2*x + 1\n",
    "    return a\n",
    "print(f(10))"
   ]
  },
  {
   "cell_type": "markdown",
   "metadata": {},
   "source": [
    "## While Loop"
   ]
  },
  {
   "cell_type": "code",
   "execution_count": 11,
   "metadata": {},
   "outputs": [
    {
     "name": "stdout",
     "output_type": "stream",
     "text": [
      "12345678910"
     ]
    }
   ],
   "source": [
    "#while loop\n",
    "i = 0\n",
    "while i < 10:\n",
    "    i+=1\n",
    "    print(i, end='') #that's how you avoid new line"
   ]
  },
  {
   "cell_type": "markdown",
   "metadata": {},
   "source": [
    "## For Loop"
   ]
  },
  {
   "cell_type": "code",
   "execution_count": 12,
   "metadata": {},
   "outputs": [
    {
     "name": "stdout",
     "output_type": "stream",
     "text": [
      "123456----\n",
      "0 1\n",
      "1 2\n",
      "2 3\n",
      "3 4\n",
      "4 5\n",
      "5 6\n"
     ]
    }
   ],
   "source": [
    "#here is list and use it\n",
    "a1 = [1,2,3,4,5,6]\n",
    "for x in a1:\n",
    "    print(x, end='')\n",
    "print('----')\n",
    "for i,x in enumerate(a1): #if you also want the index\n",
    "    print(i, x)"
   ]
  },
  {
   "cell_type": "code",
   "execution_count": 13,
   "metadata": {},
   "outputs": [
    {
     "name": "stdout",
     "output_type": "stream",
     "text": [
      "[2, 4, 6, 8, 10, 12]\n"
     ]
    }
   ],
   "source": [
    "#here is how to build one (not so beautiful)\n",
    "#Also notice here that I use a1 from the previous cell.\n",
    "#once you execute the code it's stored in the kernel\n",
    "a2 = []\n",
    "for x in a1:\n",
    "    a2.append(2*x)\n",
    "print (a2)"
   ]
  },
  {
   "cell_type": "markdown",
   "metadata": {},
   "source": [
    "## For Comprehension\n",
    "We will be using it a lot in this class"
   ]
  },
  {
   "cell_type": "code",
   "execution_count": 14,
   "metadata": {},
   "outputs": [
    {
     "name": "stdout",
     "output_type": "stream",
     "text": [
      "[3, 5, 7, 9, 11, 13]\n"
     ]
    }
   ],
   "source": [
    "#But this is ugly\n",
    "#let us use list comprehension makes it much easier to read\n",
    "a3 = [2*x+1 for x in a1]\n",
    "print (a3)"
   ]
  },
  {
   "cell_type": "markdown",
   "metadata": {},
   "source": []
  },
  {
   "cell_type": "markdown",
   "metadata": {},
   "source": [
    "## Introduction to NumPy and Broadcasting\n",
    "\n",
    "Welcome\\! Now that we've recapped Python basics, it's time to introduce **NumPy** (Numerical Python). It's the most important library for numerical and scientific computing in Python.\n",
    "\n",
    "**Why NumPy?**\n",
    "\n",
    "  * It provides a powerful, N-dimensional array object called an `ndarray`.\n",
    "  * It's **fast**. Operations are executed in pre-compiled C code, making it much quicker than standard Python lists for mathematical tasks.\n",
    "  * It's the foundation for many other data science libraries, including Pandas and Matplotlib.\n",
    "\n",
    "Let's start by importing it. The standard convention is to use the alias `np`.\n",
    "\n",
    "```python\n",
    "import numpy as np\n",
    "```\n",
    "\n",
    "-----\n",
    "\n",
    "### The NumPy `ndarray`\n",
    "\n",
    "The core of NumPy is the **`ndarray`** (N-dimensional array). It's a grid of values, all of the same data type.\n",
    "\n",
    "#### Creating Arrays\n",
    "\n",
    "You can easily create an array from a Python list or use built-in NumPy functions.\n",
    "\n",
    "```python\n",
    "# From a Python list\n",
    "my_list = [1, 2, 3, 4, 5]\n",
    "my_array = np.array(my_list)\n",
    "print(f\"1D Array: {my_array}\")\n",
    "print(f\"Type: {type(my_array)}\")\n",
    "\n",
    "# A 2D array (matrix)\n",
    "my_2d_list = [[1, 2, 3], [4, 5, 6]]\n",
    "matrix = np.array(my_2d_list)\n",
    "print(\"\\n2D Array (Matrix):\\n\", matrix)\n",
    "\n",
    "# Using built-in functions\n",
    "zeros_array = np.zeros((2, 3)) # An array of all zeros with shape (2 rows, 3 columns)\n",
    "print(\"\\nZeros Array:\\n\", zeros_array)\n",
    "\n",
    "ones_array = np.ones(5) # A 1D array of all ones\n",
    "print(\"\\nOnes Array:\", ones_array)\n",
    "\n",
    "# An array with a range of numbers\n",
    "range_array = np.arange(0, 10, 2) # Start, stop (exclusive), step\n",
    "print(\"\\nRange Array:\", range_array)\n",
    "```\n",
    "\n",
    "#### Array Attributes\n",
    "\n",
    "You can check key properties of an array.\n",
    "\n",
    "  * `shape`: The dimensions of the array (rows, columns, etc.).\n",
    "  * `ndim`: The number of dimensions.\n",
    "  * `dtype`: The data type of the elements.\n",
    "\n",
    "<!-- end list -->\n",
    "\n",
    "```python\n",
    "print(\"Matrix shape:\", matrix.shape)\n",
    "print(\"Matrix dimensions:\", matrix.ndim)\n",
    "print(\"Matrix data type:\", matrix.dtype)\n",
    "```\n",
    "\n",
    "-----\n",
    "\n",
    "### Vectorized Operations (No `for` loops\\!)\n",
    "\n",
    "A huge advantage of NumPy is its ability to perform **vectorized operations**. This means you can apply an operation to an entire array at once, without writing a slow `for` loop.\n",
    "\n",
    "```python\n",
    "data = np.arange(1, 6)\n",
    "print(\"Original data:\", data)\n",
    "\n",
    "# Operations apply to every element automatically\n",
    "print(\"Data + 5:\", data + 5)\n",
    "print(\"Data * 2:\", data * 2)\n",
    "print(\"Data squared:\", data ** 2)\n",
    "\n",
    "# NumPy also has universal functions (ufuncs)\n",
    "print(\"Square root:\", np.sqrt(data))\n",
    "```\n",
    "\n",
    "This is not only more readable but also significantly faster for large datasets.\n",
    "\n",
    "-----\n",
    "\n",
    "### Broadcasting: The Magic of NumPy\n",
    "\n",
    "Broadcasting is a powerful mechanism that allows NumPy to perform operations on arrays of different shapes. It \"stretches\" the smaller array to match the shape of the larger one so they are compatible for element-wise operations.\n",
    "\n",
    "**The Broadcasting Rules:**\n",
    "When operating on two arrays, NumPy compares their shapes element-wise, starting from the **trailing (rightmost) dimensions**. Two dimensions are compatible if:\n",
    "\n",
    "1.  They are equal.\n",
    "2.  One of them is `1`.\n",
    "\n",
    "If these conditions aren't met, you'll get a `ValueError`.\n",
    "\n",
    "#### Example 1: Array and a Scalar\n",
    "\n",
    "This is the simplest case. The scalar is \"stretched\" to match the array's shape.\n",
    "\n",
    "```python\n",
    "a = np.array([\n",
    "    [1, 2, 3],\n",
    "    [4, 5, 6],\n",
    "    [7, 8, 9]\n",
    "])\n",
    "\n",
    "# The scalar '100' is broadcast to a (3, 3) array to match the shape of 'a'\n",
    "result = a + 100\n",
    "print(\"Array 'a':\\n\", a)\n",
    "print(\"\\n'a' + 100:\\n\", result)\n",
    "```\n",
    "\n",
    "#### Example 2: 2D Array and a 1D Array\n",
    "\n",
    "Let's add a 1D array to each row of a 2D array.\n",
    "\n",
    "  * `matrix` shape: `(2, 3)`\n",
    "  * `vector` shape: `(3,)`\n",
    "\n",
    "NumPy compares the trailing dimensions. The `3`s match. Then it moves to the next dimension. The vector doesn't have a second dimension, so NumPy \"stretches\" or copies it upwards.\n",
    "\n",
    "```python\n",
    "matrix = np.array([[10, 20, 30],\n",
    "                   [40, 50, 60]])\n",
    "\n",
    "vector = np.array([1, 2, 3])\n",
    "\n",
    "print(\"Matrix (2, 3):\\n\", matrix)\n",
    "print(\"Vector (3,):\\n\", vector)\n",
    "\n",
    "# The vector is broadcast to [[1, 2, 3], [1, 2, 3]]\n",
    "# and then added to the matrix\n",
    "result = matrix + vector\n",
    "print(\"\\nResult of broadcasting:\\n\", result)\n",
    "```\n",
    "\n",
    "#### Practical Example: Centering Data\n",
    "\n",
    "A common task in data science is to \"center\" your data by subtracting the mean of each feature (column). Broadcasting makes this trivial.\n",
    "\n",
    "Let's say we have data for 3 samples, each with 2 features. The data is in a `(3, 2)` matrix.\n",
    "\n",
    "```python\n",
    "# 3 samples, 2 features\n",
    "X = np.array([\n",
    "    [1, 10],\n",
    "    [5, 20],\n",
    "    [9, 30]\n",
    "])\n",
    "\n",
    "# Calculate the mean of each feature (column)\n",
    "# axis=0 means we compute the mean down the columns\n",
    "col_means = X.mean(axis=0)\n",
    "\n",
    "print(\"Data X (3, 2):\\n\", X)\n",
    "print(\"\\nColumn means (2,):\", col_means)\n",
    "\n",
    "# Subtract the mean from each feature\n",
    "# X has shape (3, 2)\n",
    "# col_means has shape (2,)\n",
    "# The col_means vector is broadcast across the 3 rows of X\n",
    "X_centered = X - col_means\n",
    "\n",
    "print(\"\\nCentered Data:\\n\", X_centered)\n",
    "print(\"\\nNew means (should be close to 0):\", X_centered.mean(axis=0))\n",
    "```\n",
    "\n",
    "Broadcasting is a fundamental concept that enables clean, efficient code for a huge range of numerical tasks. Mastering it is key to becoming proficient with NumPy."
   ]
  },
  {
   "cell_type": "markdown",
   "metadata": {},
   "source": [
    "## Numpy array and broadcast operation"
   ]
  },
  {
   "cell_type": "code",
   "execution_count": 15,
   "metadata": {},
   "outputs": [
    {
     "name": "stdout",
     "output_type": "stream",
     "text": [
      "[ 0.          0.11111111  0.22222222  0.33333333  0.44444444  0.55555556\n",
      "  0.66666667  0.77777778  0.88888889  1.        ]\n",
      "[ 0.          0.22222222  0.44444444  0.66666667  0.88888889  1.11111111\n",
      "  1.33333333  1.55555556  1.77777778  2.        ]\n",
      "[ 0.          0.01234568  0.04938272  0.11111111  0.19753086  0.30864198\n",
      "  0.44444444  0.60493827  0.79012346  1.        ]\n",
      "[ 1.          1.11751907  1.24884887  1.39561243  1.5596235   1.742909\n",
      "  1.94773404  2.17662993  2.43242545  2.71828183]\n",
      "[ 6 10 14 18 22 26]\n"
     ]
    }
   ],
   "source": [
    "#but since we will be using it a lot we have something much better\n",
    "#it's called numpy array\n",
    "\n",
    "arr = np.linspace(0,1,10) #this gives you 10 number from 0 to 10 equally spaced \n",
    "print (arr)\n",
    "print (2*arr) #array broadcasting magic it does what you think it should\n",
    "print (arr**2)\n",
    "print (np.exp(arr)) #exp function\n",
    "\n",
    "#you can also convert normal list to numpy array if you want\n",
    "arr3 = np.array(a3)\n",
    "print(arr3*2)"
   ]
  },
  {
   "cell_type": "markdown",
   "metadata": {},
   "source": [
    "## Plotting"
   ]
  },
  {
   "cell_type": "code",
   "execution_count": 2,
   "metadata": {},
   "outputs": [
    {
     "data": {
      "image/png": "[encoded data removed]",
      "text/plain": [
       "<Figure size 640x480 with 1 Axes>"
      ]
     },
     "metadata": {},
     "output_type": "display_data"
    }
   ],
   "source": [
    "#plotting is easy\n",
    "xs = np.linspace(0,1,100)\n",
    "ys = xs**2\n",
    "plt.plot(xs,ys)\n",
    "plt.savefig('first_plot.pdf') #you can save it too"
   ]
  },
  {
   "cell_type": "code",
   "execution_count": 17,
   "metadata": {},
   "outputs": [
    {
     "data": {
      "text/plain": [
       "[<matplotlib.lines.Line2D at 0x105f0a518>]"
      ]
     },
     "execution_count": 17,
     "metadata": {},
     "output_type": "execute_result"
    },
    {
     "data": {
      "image/png": "[encoded data removed]",
      "text/plain": [
       "<matplotlib.figure.Figure at 0x105f0a080>"
      ]
     },
     "metadata": {},
     "output_type": "display_data"
    }
   ],
   "source": [
    "plt.plot(xs,ys, color='red') #change the style too\n",
    "plt.plot(xs,xs) #and you can plot two things on the same graph\n",
    "#It can do much more see: http://matplotlib.org/gallery.html"
   ]
  }
 ],
 "metadata": {
  "hide_input": false,
  "kernelspec": {
   "display_name": "iccs-205-numerical-computation-QOrFbCh5-py3.12",
   "language": "python",
   "name": "python3"
  },
  "language_info": {
   "codemirror_mode": {
    "name": "ipython",
    "version": 3
   },
   "file_extension": ".py",
   "mimetype": "text/x-python",
   "name": "python",
   "nbconvert_exporter": "python",
   "pygments_lexer": "ipython3",
   "version": "3.12.11"
  },
  "toc": {
   "colors": {
    "hover_highlight": "#DAA520",
    "running_highlight": "#FF0000",
    "selected_highlight": "#FFD700"
   },
   "moveMenuLeft": true,
   "nav_menu": {
    "height": "84px",
    "width": "252px"
   },
   "navigate_menu": true,
   "number_sections": true,
   "sideBar": true,
   "threshold": 4,
   "toc_cell": false,
   "toc_section_display": "block",
   "toc_window_display": true
  }
 },
 "nbformat": 4,
 "nbformat_minor": 1
}
