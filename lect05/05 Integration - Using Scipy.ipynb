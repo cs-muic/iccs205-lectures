{
 "cells": [
  {
   "cell_type": "code",
   "execution_count": 1,
   "metadata": {},
   "outputs": [],
   "source": [
    "%matplotlib inline\n",
    "import math\n",
    "import numpy as np\n",
    "from matplotlib import pyplot as plt"
   ]
  },
  {
   "cell_type": "markdown",
   "metadata": {},
   "source": [
    "## Using Python Libraries (SciPy) for Integration\n",
    "While learning basic rules (Riemann sums, trapezoid, Simpson) is essential, in practice you often rely on library routines that are:\n",
    "- More accurate (adaptive step size)\n",
    "- More convenient (automatic error estimates)\n",
    "- Able to handle infinite limits / oscillatory behavior\n",
    "\n",
    "### 1. `scipy.integrate.quad`\n",
    "High–quality adaptive integrator (wraps QUADPACK). Usage:\n",
    "```python\n",
    "from scipy.integrate import quad\n",
    "val, err_est = quad(f, a, b)\n",
    "```\n",
    "Gives an *estimate* `val` and an *absolute error bound* `err_est` (heuristic but usually reliable). You can supply `epsabs` (absolute tol) and `epsrel` (relative tol).\n",
    "\n",
    "Handles improper integrals:\n",
    "```python\n",
    "quad(f, 0, np.inf)    # infinite upper limit\n",
    "quad(f, -np.inf, np.inf)\n",
    "```\n",
    "\n",
    "### 2. Vectorized Simpson / Trapezoid\n",
    "If you already have sampled data values on a uniform or non-uniform grid:\n",
    "```python\n",
    "from scipy.integrate import simpson, trapezoid\n",
    "simpson(y, x=x)      # Simpson (needs odd number of points)\n",
    "trapezoid(y, x=x)    # Trapezoid\n",
    "```\n",
    "Both accept just `y` with implied spacing `dx` if uniform.\n",
    "\n",
    "### 3. When to Use What?\n",
    "| Situation | Recommended |\n",
    "|-----------|-------------|\n",
    "| Smooth function with cheap evaluations | `quad` (adaptive) |\n",
    "| Already have tabulated data | `simpson` (or `trapezoid` if only few points) |\n",
    "| Need very high precision | Increase `epsabs`, `epsrel` in `quad` or refine grid and use higher-order rules |\n",
    "| Infinite / semi-infinite interval | `quad` with `np.inf` bounds |\n",
    "\n",
    "### 4. Error Awareness\n",
    "- `quad` returns an error *estimate* (not a strict bound, but rarely far off for well-behaved functions).\n",
    "- `simpson`/`trapezoid` do NOT give an error estimate: you refine the grid and compare successive results.\n",
    "\n",
    "### 5. Strategy to Trust a Result\n",
    "1. Compute with a chosen method.\n",
    "2. Refine (halve `h` or tighten tolerances) and recompute.\n",
    "3. If results stabilize to desired digits, accept.\n",
    "\n",
    "Next: a code example comparing manual rules with `quad`."
   ]
  },
  {
   "cell_type": "markdown",
   "metadata": {},
   "source": [
    "---\n",
    "\n",
    "### Advanced: Adjusting Tolerances and Double Integrals\n",
    "\n",
    "`quad` lets you tighten or loosen accuracy:\n",
    "```python\n",
    "val, err = quad(f, a, b, epsabs=1e-10, epsrel=1e-10)\n",
    "```\n",
    "- `epsabs`: absolute error target.\n",
    "- `epsrel`: relative error target.\n",
    "The algorithm stops when estimated absolute error ≤ max(epsabs, epsrel*|val|).\n",
    "\n",
    "#### Double Integrals with `dblquad`\n",
    "For an integral\n",
    "$$ I = \\int_{x=a}^{b} \\int_{y=g_1(x)}^{g_2(x)} F(x,y)\\,dy\\,dx, $$\n",
    "use\n",
    "```python\n",
    "from scipy.integrate import dblquad\n",
    "I, err = dblquad(lambda y,x: F(x,y), a, b, g1, g2)\n",
    "```\n",
    "Note argument order: inner variable first in the lambda.\n",
    "\n",
    "If limits are simple constants you can also construct tensor grids and use Simpson/trapezoid in 2D, but adaptive `dblquad` handles curved boundaries cleanly.\n",
    "\n",
    "#### Higher Dimensions\n",
    "- `nquad` (general n-D with lists of bounds / callables)\n",
    "- Monte Carlo (random sampling) when dimension is large or region is irregular.\n",
    "\n",
    "Below: examples of refined `quad` tolerance and a double integral."
   ]
  },
  {
   "cell_type": "markdown",
   "metadata": {},
   "source": [
    "---\n",
    "\n",
    "### Example / Practice (Library Integration)\n",
    "Answer the following using SciPy:\n"
   ]
  },
  {
   "cell_type": "markdown",
   "metadata": {},
   "source": [
    "---\n",
    "\n",
    "1. Use `quad` to approximate $I_1 = \\int_0^1 e^{-x}\\sin(x^2)\\,dx$.\n",
    "   - Record the returned value and error estimate.\n",
    "   - Tighten tolerances to `epsabs=epsrel=1e-12`; how many more (or fewer) function evaluations does it report (see `quad`'s `full_output` if desired)?\n"
   ]
  },
  {
   "cell_type": "code",
   "execution_count": null,
   "metadata": {},
   "outputs": [],
   "source": []
  },
  {
   "cell_type": "markdown",
   "metadata": {},
   "source": [
    "---\n",
    "\n",
    "2. Evaluate the improper integral $I_2 = \\int_0^{\\infty} e^{-x}\\,dx$ with `quad` and verify the value.\n"
   ]
  },
  {
   "cell_type": "code",
   "execution_count": null,
   "metadata": {},
   "outputs": [],
   "source": []
  },
  {
   "cell_type": "markdown",
   "metadata": {},
   "source": [
    "---\n",
    "\n",
    "3. Compute the triangular-region double integral\n",
    "   $$ I_3 = \\int_{x=0}^{1} \\int_{y=0}^{x} (x^2 + y^2)\\,dy\\,dx $$\n",
    "   and compare with the exact $1/3$.\n"
   ]
  },
  {
   "cell_type": "code",
   "execution_count": null,
   "metadata": {},
   "outputs": [],
   "source": []
  },
  {
   "cell_type": "markdown",
   "metadata": {},
   "source": [
    "---\n",
    "\n",
    "4. (Exploration) Change the curved-boundary example to $\\int_0^1 \\int_0^{x^2} \\cos(xy)\\,dy\\,dx$; estimate its value.\n"
   ]
  },
  {
   "cell_type": "code",
   "execution_count": null,
   "metadata": {},
   "outputs": [],
   "source": []
  }
 ],
 "metadata": {
  "kernelspec": {
   "display_name": "iccs-205-numerical-computation-QOrFbCh5-py3.12",
   "language": "python",
   "name": "python3"
  },
  "language_info": {
   "codemirror_mode": {
    "name": "ipython",
    "version": 3
   },
   "file_extension": ".py",
   "mimetype": "text/x-python",
   "name": "python",
   "nbconvert_exporter": "python",
   "pygments_lexer": "ipython3",
   "version": "3.12.11"
  },
  "toc": {
   "colors": {
    "hover_highlight": "#DAA520",
    "running_highlight": "#FF0000",
    "selected_highlight": "#FFD700"
   },
   "moveMenuLeft": true,
   "nav_menu": {
    "height": "48px",
    "width": "251px"
   },
   "navigate_menu": true,
   "number_sections": false,
   "sideBar": true,
   "threshold": 4,
   "toc_cell": false,
   "toc_section_display": "block",
   "toc_window_display": false
  }
 },
 "nbformat": 4,
 "nbformat_minor": 1
}
