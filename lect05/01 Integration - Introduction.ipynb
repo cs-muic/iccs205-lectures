{
 "cells": [
  {
   "cell_type": "code",
   "execution_count": 1,
   "metadata": {},
   "outputs": [],
   "source": [
    "%matplotlib inline\n",
    "import math\n",
    "import numpy as np\n",
    "from matplotlib import pyplot as plt"
   ]
  },
  {
   "cell_type": "markdown",
   "metadata": {},
   "source": [
    "# Introduction to Numerical Integration\n",
    "\n",
    "In many real problems we need the value of an integral\n",
    "$$ I = \\int_a^b f(x)\\,dx $$\n",
    "but:\n",
    "- We may not know an antiderivative of $f$ (no closed form).\n",
    "- $f$ may come from data (samples, experiment, simulation) rather than a formula.\n",
    "- Even with a formula, the antiderivative might be expensive or unstable to evaluate.\n",
    "\n",
    "Numerical integration (quadrature) replaces the continuous area by a weighted sum of function values:\n",
    "$$ I \\approx Q_n = \\sum_{k=0}^{n} w_k f(x_k) $$\n",
    "where $a = x_0 < x_1 < \\cdots < x_n = b$ are nodes (subdivision points) and $w_k$ are weights determined by the rule.\n"
   ]
  },
  {
   "cell_type": "markdown",
   "metadata": {},
   "source": [
    "In this lecture we will learn:\n",
    "- Riemann Sums\n",
    "- The Trapezoid Rule\n",
    "- Simpson's Rule\n",
    "- Using SciPy's `quad` and `dblquad` functions\n"
   ]
  },
  {
   "cell_type": "markdown",
   "metadata": {},
   "source": []
  }
 ],
 "metadata": {
  "kernelspec": {
   "display_name": "iccs-205-numerical-computation-QOrFbCh5-py3.12",
   "language": "python",
   "name": "python3"
  },
  "language_info": {
   "codemirror_mode": {
    "name": "ipython",
    "version": 3
   },
   "file_extension": ".py",
   "mimetype": "text/x-python",
   "name": "python",
   "nbconvert_exporter": "python",
   "pygments_lexer": "ipython3",
   "version": "3.12.11"
  },
  "toc": {
   "colors": {
    "hover_highlight": "#DAA520",
    "running_highlight": "#FF0000",
    "selected_highlight": "#FFD700"
   },
   "moveMenuLeft": true,
   "nav_menu": {
    "height": "48px",
    "width": "251px"
   },
   "navigate_menu": true,
   "number_sections": false,
   "sideBar": true,
   "threshold": 4,
   "toc_cell": false,
   "toc_section_display": "block",
   "toc_window_display": false
  }
 },
 "nbformat": 4,
 "nbformat_minor": 1
}
