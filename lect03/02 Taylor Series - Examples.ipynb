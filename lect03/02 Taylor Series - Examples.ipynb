{
  "cells": [
    {
      "cell_type": "markdown",
      "metadata": {
        "id": "MOEq2ErjByc9"
      },
      "source": [
        "### Example: Using Taylor Series to Solve Limits\n",
        "\n",
        "You may have learned that\n",
        "$ \\lim_{x\\to 0} \\frac{\\sin(x)}{x} =1$ This can be solve using L'Hôpital's rule (because substitute $x=0$ gives us $\\frac{0}{0}$). Another way to solve this is to use Taylor Series. We replace $\\sin(x)$ with its series:\n",
        "\\begin{align*}\n",
        "\\lim_{x\\to 0} \\frac{\\sin(x)}{x} &= \\lim_{x\\to 0} \\frac{\\left(x - \\frac{x^3}{3!} + \\frac{x^5}{5!} - \\cdots\\right)}{x} \\\\\n",
        "&= \\lim_{x\\to 0} \\left(\\frac{x}{x} - \\frac{x^3}{x \\cdot 3!} + \\frac{x^5}{x \\cdot 5!} - \\cdots\\right) \\\\\n",
        "&= \\lim_{x\\to 0} \\left(1 - \\frac{x^2}{3!} + \\frac{x^4}{5!} - \\cdots\\right) \\\\\n",
        "&= 1\n",
        "\\end{align*}\n",
        "\n",
        "---"
      ]
    },
    {
      "cell_type": "markdown",
      "metadata": {
        "id": "C3S5Bu8r-GRe"
      },
      "source": [
        "### Example: Euler's Formula\n",
        "\n",
        "We will prove Euler's Formula, $e^{ix} = \\cos(x) + i\\sin(x)$ using the Taylor series around $x=0$.\n",
        "\n",
        "$$ e^{ix} = 1 + ix + \\frac{(ix)^2}{2!} + \\frac{(ix)^3}{3!} + \\frac{(ix)^4}{4!} + \\frac{(ix)^5}{5!} + \\cdots $$\n",
        "\n",
        "Recall that $i^2 = -1$. This gives us:\n",
        "\\begin{align*}\n",
        "e^{ix} &= 1 + ix - \\frac{x^2}{2!} - i\\frac{x^3}{3!} + \\frac{x^4}{4!} + i\\frac{x^5}{5!} + \\cdots \\\\\n",
        "&= \\left(1 - \\frac{x^2}{2!} + \\frac{x^4}{4!} - \\cdots\\right) + i\\left(x - \\frac{x^3}{3!} + \\frac{x^5}{5!} - \\cdots\\right) \\\\\n",
        "&= \\cos(x) + i\\sin(x)\n",
        "\\end{align*}\n",
        "\n",
        "When $x = \\pi$, we have the most beautiful theorem in Mathematics.\n",
        "$$ e^{i\\pi} +1 = 0$$\n",
        "\n",
        "---"
      ]
    },
    {
      "cell_type": "markdown",
      "metadata": {
        "id": "VPLUnH23Ob26"
      },
      "source": [
        "### Example: Approximating $sin(x)$\n",
        "\n",
        "We will first see how we obtain the polynomial for $sin(x)$ previously. We write $\\sin(x)$ as a polynomial with infinite terms\n",
        "\n",
        " $$f(x) = \\sin(x)=c_0 + c_1x+c_2x^2 +c_3x^3+...$$\n",
        "\n",
        "Our goal is to find the values of the unknown coefficients: $c_0, c_1, c_2, ...$\n",
        "\n",
        "\n",
        "1.   To find $c_0$, we substitute $x=0$: $$f(0) = \\sin(0) = c_0$$ So, we know that $f(0) = c_0 = 0$.\n",
        "2.   To find $c_1$, we first take the derivative of both sides: $$\\cos(x) = c_1 + 2c_2x + 3c_3x^2+...$$ Then, we substitute $x=0$: $$f'(0) = \\cos(0) = c_1$$ So, we know that $c_1 = 1$.\n",
        "\n",
        "1.   To find $c_2$, we first take the derivative of both sides: $$-\\sin(x) = (2\\cdot1)c_2 + (3\\cdot2)c_3x+ (4\\cdot3)c_3x^2 + ...$$ Then, we substitute $x=0$: $$f''(0) = -\\sin(0) = (2\\cdot1)c_2$$ So, we know that $c_2 = 0$.\n",
        "2.   To find $c_3$, we first take the derivative of both sides: $$-\\cos(x) = (3\\cdot2\\cdot1)c_3+ (4\\cdot3\\cdot2)c_3x + ...$$ Then, we substitute $x=0$: $$f'''(0) = -\\cos(0) = (3\\cdot2\\cdot1)c_3$$ So, we know that $c_3 = -\\frac{1}{3!}$.\n",
        "\n",
        "You see the pattern. If we continued, we'd find $c_4=0$ and $c_5=\\frac{1}{5!}$.\n",
        "\n",
        "Now, we plug these back into our original unknown polynomial:\n",
        "\n",
        "$$\\sin(x)=  x - \\frac{x^3}{3!} + \\frac{x^5}{5!} - \\frac{x^7}{7!} + ...$$\n"
      ]
    },
    {
      "cell_type": "markdown",
      "metadata": {
        "id": "VHNDCq5GPjUX"
      },
      "source": [
        "Let's write the formula for general function $f(x):\n",
        "\n",
        "$$f(x) = f(0) + f'(0)x + \\frac{f''(0)}{2!}x^2 + \\frac{f'''(0)}{3!}x^3 + ... $$\n",
        "\n",
        "or we can write as\n",
        "\n",
        "$$f(x) = \\sum_{n=0}^∞ \\frac{f^{(n)}(0)}{n!}x^n$$\n",
        "\n",
        "This formula is, in fact, called Taylor series around $x = 0$ or *Maclaurin series*.\n",
        "\n",
        "---\n"
      ]
    },
    {
      "cell_type": "markdown",
      "metadata": {
        "id": "DIezLCfqb8bF"
      },
      "source": [
        "**Exercise**: Find Maclaurin series for $e^x, \\cos(x),$ and  $\\frac{1}{1-x}$. (These are easy functions, you can do it by hand. In practice, you can use WolframAlpha or SymPy library)"
      ]
    },
    {
      "cell_type": "code",
      "execution_count": 1,
      "metadata": {
        "collapsed": true,
        "id": "0UPMW2JiaKIt"
      },
      "outputs": [],
      "source": [
        "#load all the necessary libraries\n",
        "%matplotlib inline\n",
        "from matplotlib import pyplot as plt\n",
        "import numpy as np\n",
        "import math"
      ]
    }
  ],
  "metadata": {
    "colab": {
      "provenance": []
    },
    "hide_input": false,
    "kernelspec": {
      "display_name": "iccs-205-numerical-computation-QOrFbCh5-py3.12",
      "language": "python",
      "name": "python3"
    },
    "language_info": {
      "codemirror_mode": {
        "name": "ipython",
        "version": 3
      },
      "file_extension": ".py",
      "mimetype": "text/x-python",
      "name": "python",
      "nbconvert_exporter": "python",
      "pygments_lexer": "ipython3",
      "version": "3.12.11"
    },
    "toc": {
      "colors": {
        "hover_highlight": "#DAA520",
        "running_highlight": "#FF0000",
        "selected_highlight": "#FFD700"
      },
      "moveMenuLeft": true,
      "nav_menu": {
        "height": "84px",
        "width": "252px"
      },
      "navigate_menu": true,
      "number_sections": false,
      "sideBar": true,
      "threshold": 4,
      "toc_cell": false,
      "toc_section_display": "block",
      "toc_window_display": false
    }
  },
  "nbformat": 4,
  "nbformat_minor": 0
}
