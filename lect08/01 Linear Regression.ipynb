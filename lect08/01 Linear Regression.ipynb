{
 "cells": [
  {
   "cell_type": "code",
   "execution_count": null,
   "metadata": {
    "ExecuteTime": {
     "end_time": "2020-01-28T18:27:00.173939Z",
     "start_time": "2020-01-28T18:26:58.533035Z"
    }
   },
   "outputs": [],
   "source": [
    "%matplotlib inline\n",
    "import math\n",
    "import numpy as np\n",
    "from matplotlib import pyplot as plt"
   ]
  },
  {
   "cell_type": "markdown",
   "metadata": {},
   "source": [
    "## Linear Regression"
   ]
  },
  {
   "cell_type": "markdown",
   "metadata": {},
   "source": [
    "\n",
    "\n",
    "### Prediction \n",
    "\n",
    "Given a dataset of points $(x_i, y_i)$, we predict $\\hat{y}_i$ for each input $x_i$ using the equation of a straight line:\n",
    "$$\n",
    "\\hat{y}_i = m x_i + b\n",
    "$$\n",
    "The goal is to find the specific values for the slope (m) and intercept (b) that create a line minimizing the cost function. \n",
    "\n",
    "### Cost Function\n",
    "\n",
    "To measure how well our line fits the data, we use the **Mean Squared Error (MSE)** cost function. This is what we want to minimize. Let's call it $J(m,b)$. It's the average of the squared differences between the actual values ($y_i$) and our predicted values ($\\hat{y}_i$).\n",
    "$$\n",
    "J(m,b) = \\frac{1}{N} \\sum_{i=1}^N (y_i - \\hat{y_i})^2\n",
    "$$\n",
    "$$\n",
    "J(m,b) = \\frac{1}{N} \\sum_{i=1}^N (y_i - (m x_i + b))^2 \n",
    "$$\n",
    "where $N$ is the number of data points.\n",
    "\n",
    "### Finding the \"Best\" Line\n",
    "\n",
    "The \"best\" line minimizes the MSE. In calculus, you find the minimum of a function by taking its derivative, setting it to zero, and solving. Since our cost function has two variables (m and b), we'll need to take a partial derivative with respect to each one.To find the optimal $m$ and $b$, we set the derivatives of MSE with respect to $m$ and $b$ to zero and solve:\n",
    "\n",
    "- For $m$:\n",
    "      $$\n",
    "      \\frac{\\partial J}{\\partial m} = -\\frac{2}{N} \\sum_{i=1}^N x_i (y_i - (m x_i + b)) = 0\n",
    "      $$\n",
    "      $$\n",
    "    \\sum_{i=1}^N x_iy_i - m\\sum_{i=1}^N x^2_i - b\\sum_{i=1}^N x_i = 0  \\tag{1}\n",
    "      $$\n",
    "- For $b$:\n",
    "      $$\n",
    "      \\frac{\\partial J}{\\partial b} = -\\frac{2}{N} \\sum_{i=1}^N (y_i - (m x_i + b)) = 0\n",
    "      $$\n",
    "      $$\n",
    "      \\sum_{i=1}^N y_i - m \\sum_{i=1}^N x_i - Nb = 0  \\tag{2}\n",
    "      $$\n",
    "We can rewrite the system of equations (1) and (2) in the form $A \\vec{x} = \\vec{b}$ and solve it using Gaussian Elimination we learned previously:\n",
    "\n",
    "$$\n",
    "\\begin{pmatrix}\n",
    "\\sum x_i^2 & \\sum x_i \\\\\n",
    "\\sum x_i & N\n",
    "\\end{pmatrix}\n",
    "\\begin{pmatrix}\n",
    "m \\\\\n",
    "b\n",
    "\\end{pmatrix}\n",
    "=\n",
    "\\begin{pmatrix}\n",
    "\\sum x_i y_i \\\\\n",
    "\\sum y_i\n",
    "\\end{pmatrix}\n",
    "$$\n",
    "\n",
    "\n"
   ]
  },
  {
   "cell_type": "markdown",
   "metadata": {},
   "source": [
    "1) Load the linear data using `np.loadtxt`. The first column is `x` and the second column is `y`."
   ]
  },
  {
   "cell_type": "code",
   "execution_count": null,
   "metadata": {},
   "outputs": [],
   "source": [
    "data_x, data_y = np.loadtxt('linear.txt')"
   ]
  },
  {
   "cell_type": "markdown",
   "metadata": {},
   "source": [
    "2) Plot `data_x` vs `data_y`"
   ]
  },
  {
   "cell_type": "code",
   "execution_count": null,
   "metadata": {},
   "outputs": [],
   "source": [
    "plt.plot(data_x, data_y, '.')"
   ]
  },
  {
   "cell_type": "markdown",
   "metadata": {},
   "source": [
    "3) Find the best slope and the best intercept. Plot the line along with the data points."
   ]
  },
  {
   "cell_type": "code",
   "execution_count": null,
   "metadata": {},
   "outputs": [],
   "source": []
  },
  {
   "cell_type": "markdown",
   "metadata": {},
   "source": [
    "\n",
    "In practice, we use the `scikit-learn` library to perform linear regression efficiently. It handles the fitting process and provides easy access to the slope and intercept. See the example below for how to use it:\n",
    "\n",
    "- Reshape your input data if necessary (scikit-learn expects a 2D array for features).\n",
    "- Fit the model using `model.fit(data_x_2d, data_y)`.\n",
    "- Access the slope with `model.coef_` and the intercept with `model.intercept_`.\n",
    "\n",
    "This approach is widely used in real-world data science and machine learning tasks."
   ]
  },
  {
   "cell_type": "code",
   "execution_count": null,
   "metadata": {},
   "outputs": [],
   "source": []
  },
  {
   "cell_type": "markdown",
   "metadata": {},
   "source": [
    "## Generalization\n",
    "\n",
    "The technique we learn above does not limit you to just a straight line model. Let us use it for a more general problem. For fitting the parabola, we can derive $A$ and $\\vec{b}$ using calculus as we did previously. Here are the results \n",
    "\n",
    "$$\n",
    "\\begin{pmatrix}\n",
    "\\sum x_i^4 &\\sum x_i^3 & \\sum x_2 \\\\\n",
    "\\sum x_i^3 &\\sum x_i^2 & \\sum x_i \\\\\n",
    "\\sum x_i^2 &\\sum x_i & N\n",
    "\\end{pmatrix}\n",
    "\\begin{pmatrix}\n",
    "a_1 \\\\\n",
    "a_2 \\\\\n",
    "a_3\n",
    "\\end{pmatrix}\n",
    "=\n",
    "\\begin{pmatrix}\n",
    "\\sum x^2_i y_i \\\\\n",
    "\\sum x_i y_i \\\\\n",
    "\\sum y_i\n",
    "\\end{pmatrix}\n",
    "$$\n",
    "\n",
    "where our parabola is $f(x) = a_1x^2+a_2x+a_3$. (You may see the pattern of $A$ and $b$, so you can generalize for cubic equation and so on)"
   ]
  },
  {
   "cell_type": "markdown",
   "metadata": {},
   "source": [
    "1) Open parabola.txt and plot it. Again the first column is `x` and second column is `y`."
   ]
  },
  {
   "cell_type": "code",
   "execution_count": null,
   "metadata": {},
   "outputs": [],
   "source": []
  },
  {
   "cell_type": "markdown",
   "metadata": {},
   "source": [
    "2) Plot the best fitted parabola and plot it along with the data points."
   ]
  },
  {
   "cell_type": "code",
   "execution_count": null,
   "metadata": {},
   "outputs": [],
   "source": [
    "\n"
   ]
  },
  {
   "cell_type": "markdown",
   "metadata": {},
   "source": [
    "## Higher Dimension\n",
    "\n",
    "Also, there is no need to stop at 2 dimension."
   ]
  },
  {
   "cell_type": "code",
   "execution_count": null,
   "metadata": {
    "ExecuteTime": {
     "end_time": "2020-01-28T18:33:55.823703Z",
     "start_time": "2020-01-28T18:33:55.813328Z"
    }
   },
   "outputs": [],
   "source": []
  },
  {
   "cell_type": "markdown",
   "metadata": {},
   "source": [
    "We have a reason to believe that a child height is a linear combination of mother's and father's height.\n",
    "\n",
    "$$\n",
    "h_{child} = c_{mom} \\times h_{mom} + c_{dad} \\times h_{dad} + c\n",
    "$$"
   ]
  },
  {
   "cell_type": "markdown",
   "metadata": {},
   "source": [
    "1.) Plot mother_height vs child_height and father_height vs child_height."
   ]
  },
  {
   "cell_type": "code",
   "execution_count": null,
   "metadata": {},
   "outputs": [],
   "source": []
  },
  {
   "cell_type": "markdown",
   "metadata": {
    "ExecuteTime": {
     "end_time": "2020-01-28T19:12:46.395393Z",
     "start_time": "2020-01-28T19:12:46.384518Z"
    }
   },
   "source": [
    "2.) Find appropriate $c_{mom}$ and $c_{dad}$"
   ]
  },
  {
   "cell_type": "code",
   "execution_count": null,
   "metadata": {},
   "outputs": [],
   "source": []
  },
  {
   "cell_type": "markdown",
   "metadata": {},
   "source": [
    "3) Now that you can't really plot the line on top of distribution to check the answer anymore since you have more than 2 dimensions.\n",
    "\n",
    "Try plot $h_{child, predicted}$ vs $h_{child, data}$. What do you expect to see and did you get what you expect?"
   ]
  },
  {
   "cell_type": "code",
   "execution_count": null,
   "metadata": {},
   "outputs": [],
   "source": [
    "\n",
    "\n"
   ]
  },
  {
   "cell_type": "markdown",
   "metadata": {},
   "source": [
    "In practice, this is also used to predict the housing price."
   ]
  },
  {
   "cell_type": "markdown",
   "metadata": {},
   "source": [
    "## Even More generalization. Power Law.\n",
    "\n",
    "Most of physics formula comes in the form of\n",
    "\n",
    "$Y = K \\times A^\\alpha B^\\beta C^\\gamma$\n",
    "\n",
    "Ex:\n",
    "- $ F = ma$\n",
    "- $ K = \\frac{1}{2} m v^2$\n",
    "- $ c = \\frac{1}{\\sqrt{\\mu_0, \\epsilon_0}}$"
   ]
  },
  {
   "cell_type": "markdown",
   "metadata": {},
   "source": [
    "1) How do we turn power law in to linear relation?"
   ]
  },
  {
   "cell_type": "markdown",
   "metadata": {},
   "source": []
  },
  {
   "cell_type": "markdown",
   "metadata": {},
   "source": [
    "2) Turn this in to a linear equation."
   ]
  },
  {
   "cell_type": "markdown",
   "metadata": {},
   "source": [
    "$$\\ln Y = \\ln K + \\alpha \\ln A + \\beta \\ln B + \\gamma \\ln C$$"
   ]
  },
  {
   "cell_type": "markdown",
   "metadata": {},
   "source": [
    "3) If we still have time.\n",
    "\n",
    "Pretend that you are bad at physics and don't know how to calculate kinetic energy from velocity.\n",
    "\n",
    "Your guess is\n",
    "\n",
    "$$\n",
    "K = cv^\\alpha\n",
    "$$\n",
    "\n",
    "find $c$ and $\\alpha$"
   ]
  },
  {
   "cell_type": "code",
   "execution_count": null,
   "metadata": {
    "ExecuteTime": {
     "end_time": "2020-01-28T19:33:50.988135Z",
     "start_time": "2020-01-28T19:33:50.981667Z"
    }
   },
   "outputs": [],
   "source": []
  },
  {
   "cell_type": "code",
   "execution_count": null,
   "metadata": {
    "ExecuteTime": {
     "end_time": "2020-01-28T19:33:51.714547Z",
     "start_time": "2020-01-28T19:33:51.377126Z"
    }
   },
   "outputs": [],
   "source": []
  },
  {
   "cell_type": "code",
   "execution_count": null,
   "metadata": {},
   "outputs": [],
   "source": []
  }
 ],
 "metadata": {
  "hide_input": false,
  "kernelspec": {
   "display_name": "Python 3",
   "language": "python",
   "name": "python3"
  },
  "language_info": {
   "codemirror_mode": {
    "name": "ipython",
    "version": 3
   },
   "file_extension": ".py",
   "mimetype": "text/x-python",
   "name": "python",
   "nbconvert_exporter": "python",
   "pygments_lexer": "ipython3",
   "version": "3.11.3"
  },
  "toc": {
   "colors": {
    "hover_highlight": "#DAA520",
    "running_highlight": "#FF0000",
    "selected_highlight": "#FFD700"
   },
   "moveMenuLeft": true,
   "nav_menu": {
    "height": "30px",
    "width": "252px"
   },
   "navigate_menu": true,
   "number_sections": false,
   "sideBar": true,
   "threshold": 4,
   "toc_cell": false,
   "toc_section_display": "block",
   "toc_window_display": false
  }
 },
 "nbformat": 4,
 "nbformat_minor": 1
}
